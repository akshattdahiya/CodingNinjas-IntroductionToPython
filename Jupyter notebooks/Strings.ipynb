{
 "cells": [
  {
   "cell_type": "code",
   "execution_count": 2,
   "id": "70256faa",
   "metadata": {},
   "outputs": [
    {
     "name": "stdout",
     "output_type": "stream",
     "text": [
      "abcd\n",
      "abcde\n",
      "abcdef\n"
     ]
    }
   ],
   "source": [
    "s = 'abcd'\n",
    "print(s)\n",
    "s = \"abcde\"\n",
    "print(s)\n",
    "s = '''abcdef'''\n",
    "print(s)"
   ]
  },
  {
   "cell_type": "code",
   "execution_count": 4,
   "id": "3592bbfd",
   "metadata": {},
   "outputs": [
    {
     "name": "stdout",
     "output_type": "stream",
     "text": [
      "My\n",
      "Name\n",
      "Is\n",
      "ABCDEFGH\n",
      ":D\n"
     ]
    }
   ],
   "source": [
    "a = '''My\n",
    "Name\n",
    "Is\n",
    "ABCDEFGH\n",
    ":D'''          #triple quotes are for multiline strings\n",
    "print(a)"
   ]
  },
  {
   "cell_type": "code",
   "execution_count": 6,
   "id": "bb6e4b93",
   "metadata": {},
   "outputs": [
    {
     "name": "stdout",
     "output_type": "stream",
     "text": [
      "v\n",
      "w\n",
      "x\n",
      "y\n",
      "z\n"
     ]
    }
   ],
   "source": [
    "s = \"vwxyz\"\n",
    "print(s[0])\n",
    "print(s[1])\n",
    "print(s[2])\n",
    "print(s[3])\n",
    "print(s[4])"
   ]
  },
  {
   "cell_type": "code",
   "execution_count": 7,
   "id": "4eab9752",
   "metadata": {},
   "outputs": [
    {
     "data": {
      "text/plain": [
       "'y'"
      ]
     },
     "execution_count": 7,
     "metadata": {},
     "output_type": "execute_result"
    }
   ],
   "source": [
    "s[-2]"
   ]
  },
  {
   "cell_type": "code",
   "execution_count": 11,
   "id": "c2191158",
   "metadata": {},
   "outputs": [
    {
     "data": {
      "text/plain": [
       "'Hello\\nHow Are\\nYou?'"
      ]
     },
     "execution_count": 11,
     "metadata": {},
     "output_type": "execute_result"
    }
   ],
   "source": [
    "x = '''Hello\n",
    "How Are\n",
    "You?'''\n",
    "x"
   ]
  },
  {
   "cell_type": "code",
   "execution_count": 12,
   "id": "f933b2c6",
   "metadata": {},
   "outputs": [
    {
     "name": "stdout",
     "output_type": "stream",
     "text": [
      "2346284801968\n",
      "2346284801968\n"
     ]
    }
   ],
   "source": [
    "s = \"Rohan\"\n",
    "a = \"Rohan\"\n",
    "print(id(s))\n",
    "print(id(a))"
   ]
  },
  {
   "cell_type": "code",
   "execution_count": 14,
   "id": "6213372c",
   "metadata": {},
   "outputs": [
    {
     "name": "stdout",
     "output_type": "stream",
     "text": [
      "2346284688112\n",
      "2346284688112\n",
      "\n",
      "2346284754224\n",
      "2346284688112\n"
     ]
    }
   ],
   "source": [
    "s = \"rohan\"\n",
    "print(id(s))\n",
    "a = \"rohan\"\n",
    "print(id(a))\n",
    "print()\n",
    "s = \"ram\"\n",
    "print(id(s))\n",
    "print(id(a))"
   ]
  },
  {
   "cell_type": "markdown",
   "id": "bf357fe2",
   "metadata": {},
   "source": [
    "### Concatenation"
   ]
  },
  {
   "cell_type": "code",
   "execution_count": 15,
   "id": "9cbc9887",
   "metadata": {},
   "outputs": [
    {
     "name": "stdout",
     "output_type": "stream",
     "text": [
      "bluegreenred\n"
     ]
    }
   ],
   "source": [
    "a = \"blue\"\n",
    "print(a + \"green\" + \"red\")"
   ]
  },
  {
   "cell_type": "code",
   "execution_count": 16,
   "id": "336669d1",
   "metadata": {},
   "outputs": [],
   "source": [
    "a += \"red\""
   ]
  },
  {
   "cell_type": "code",
   "execution_count": 17,
   "id": "38c59dba",
   "metadata": {},
   "outputs": [
    {
     "name": "stdout",
     "output_type": "stream",
     "text": [
      "bluered\n"
     ]
    }
   ],
   "source": [
    "print(a)"
   ]
  },
  {
   "cell_type": "code",
   "execution_count": 18,
   "id": "89c62675",
   "metadata": {},
   "outputs": [
    {
     "data": {
      "text/plain": [
       "'greenblack'"
      ]
     },
     "execution_count": 18,
     "metadata": {},
     "output_type": "execute_result"
    }
   ],
   "source": [
    "b = \"green\"\n",
    "c = \"black\"\n",
    "b + c"
   ]
  },
  {
   "cell_type": "code",
   "execution_count": 20,
   "id": "f238da21",
   "metadata": {},
   "outputs": [
    {
     "data": {
      "text/plain": [
       "'greengreengreen'"
      ]
     },
     "execution_count": 20,
     "metadata": {},
     "output_type": "execute_result"
    }
   ],
   "source": [
    "b * 3    # repetition operator"
   ]
  },
  {
   "cell_type": "code",
   "execution_count": 23,
   "id": "78249280",
   "metadata": {},
   "outputs": [
    {
     "name": "stdout",
     "output_type": "stream",
     "text": [
      "bluered\n"
     ]
    },
    {
     "ename": "TypeError",
     "evalue": "can only concatenate str (not \"int\") to str",
     "output_type": "error",
     "traceback": [
      "\u001b[1;31m---------------------------------------------------------------------------\u001b[0m",
      "\u001b[1;31mTypeError\u001b[0m                                 Traceback (most recent call last)",
      "Cell \u001b[1;32mIn[23], line 2\u001b[0m\n\u001b[0;32m      1\u001b[0m \u001b[38;5;28mprint\u001b[39m(a)\n\u001b[1;32m----> 2\u001b[0m a \u001b[38;5;241m=\u001b[39m \u001b[43ma\u001b[49m\u001b[43m \u001b[49m\u001b[38;5;241;43m+\u001b[39;49m\u001b[43m \u001b[49m\u001b[38;5;241;43m3\u001b[39;49m\n",
      "\u001b[1;31mTypeError\u001b[0m: can only concatenate str (not \"int\") to str"
     ]
    }
   ],
   "source": [
    "print(a)\n",
    "a = a + 3"
   ]
  },
  {
   "cell_type": "code",
   "execution_count": 38,
   "id": "524c0ca1",
   "metadata": {},
   "outputs": [
    {
     "data": {
      "text/plain": [
       "'bluered3'"
      ]
     },
     "execution_count": 38,
     "metadata": {},
     "output_type": "execute_result"
    }
   ],
   "source": [
    "a = \"bluered\"\n",
    "a = a + str(3)\n",
    "a"
   ]
  },
  {
   "cell_type": "markdown",
   "id": "4a518205",
   "metadata": {},
   "source": [
    "### Slicing of strings"
   ]
  },
  {
   "cell_type": "code",
   "execution_count": 39,
   "id": "5615bc1a",
   "metadata": {},
   "outputs": [
    {
     "data": {
      "text/plain": [
       "'sjkd'"
      ]
     },
     "execution_count": 39,
     "metadata": {},
     "output_type": "execute_result"
    }
   ],
   "source": [
    "p = \"asjkdjk\"\n",
    "p[1:5]"
   ]
  },
  {
   "cell_type": "code",
   "execution_count": 40,
   "id": "7146667d",
   "metadata": {},
   "outputs": [
    {
     "data": {
      "text/plain": [
       "'skj'"
      ]
     },
     "execution_count": 40,
     "metadata": {},
     "output_type": "execute_result"
    }
   ],
   "source": [
    "p[1:6:2]"
   ]
  },
  {
   "cell_type": "code",
   "execution_count": 41,
   "id": "e6a10d8d",
   "metadata": {},
   "outputs": [
    {
     "data": {
      "text/plain": [
       "'jdkj'"
      ]
     },
     "execution_count": 41,
     "metadata": {},
     "output_type": "execute_result"
    }
   ],
   "source": [
    "p[5:1:-1]"
   ]
  },
  {
   "cell_type": "code",
   "execution_count": 43,
   "id": "f84fb65a",
   "metadata": {},
   "outputs": [
    {
     "data": {
      "text/plain": [
       "7"
      ]
     },
     "execution_count": 43,
     "metadata": {},
     "output_type": "execute_result"
    }
   ],
   "source": [
    "len(p)"
   ]
  },
  {
   "cell_type": "code",
   "execution_count": 46,
   "id": "b8b85fa8",
   "metadata": {},
   "outputs": [],
   "source": [
    "p = p[::-1]   # reversing the string"
   ]
  },
  {
   "cell_type": "code",
   "execution_count": 45,
   "id": "e4e484b3",
   "metadata": {},
   "outputs": [
    {
     "name": "stdout",
     "output_type": "stream",
     "text": [
      "kjdkjsa\n"
     ]
    }
   ],
   "source": [
    "print(p)"
   ]
  },
  {
   "cell_type": "markdown",
   "id": "def4e115",
   "metadata": {},
   "source": [
    "### Iterating on string"
   ]
  },
  {
   "cell_type": "code",
   "execution_count": 47,
   "id": "8af33e04",
   "metadata": {},
   "outputs": [],
   "source": [
    "string = \"Hello World\""
   ]
  },
  {
   "cell_type": "code",
   "execution_count": 48,
   "id": "a559ae81",
   "metadata": {},
   "outputs": [
    {
     "name": "stdout",
     "output_type": "stream",
     "text": [
      "The number of times 'l' appears in this string is  3\n"
     ]
    }
   ],
   "source": [
    "count = 0\n",
    "for i in string:\n",
    "    if i == \"l\":\n",
    "        count += 1\n",
    "print(\"The number of times 'l' appears in this string is \" , count)"
   ]
  },
  {
   "cell_type": "code",
   "execution_count": 51,
   "id": "8a0abf51",
   "metadata": {},
   "outputs": [
    {
     "name": "stdout",
     "output_type": "stream",
     "text": [
      "The number of times 'l' appears in this string is  3\n"
     ]
    }
   ],
   "source": [
    "c = 0\n",
    "for i in range(len(string)):\n",
    "    if (string[i] == \"l\"):\n",
    "        c += 1\n",
    "print(\"The number of times 'l' appears in this string is \" , c)"
   ]
  },
  {
   "cell_type": "markdown",
   "id": "c4448fe5",
   "metadata": {},
   "source": [
    "### Substring"
   ]
  },
  {
   "cell_type": "code",
   "execution_count": 3,
   "id": "54c23bc4",
   "metadata": {},
   "outputs": [
    {
     "name": "stdout",
     "output_type": "stream",
     "text": [
      "Yes it is a substring\n"
     ]
    }
   ],
   "source": [
    "str = \"Hello\"\n",
    "if \"Hel\" in str:\n",
    "    print(\"Yes it is a substring\")\n",
    "else:\n",
    "    print(\"No it is not a substring\")"
   ]
  },
  {
   "cell_type": "markdown",
   "id": "ab42565a",
   "metadata": {},
   "source": [
    "### Comparison operators on strings"
   ]
  },
  {
   "cell_type": "code",
   "execution_count": 4,
   "id": "0c0f7759",
   "metadata": {},
   "outputs": [
    {
     "name": "stdout",
     "output_type": "stream",
     "text": [
      "True\n"
     ]
    }
   ],
   "source": [
    "a = \"ABCD\" == \"ABCD\"\n",
    "print(a)"
   ]
  },
  {
   "cell_type": "code",
   "execution_count": 6,
   "id": "7ba3e0a8",
   "metadata": {},
   "outputs": [
    {
     "name": "stdout",
     "output_type": "stream",
     "text": [
      "False\n"
     ]
    }
   ],
   "source": [
    "b = \"Abcd\" >= \"Bcd\"\n",
    "print(b)"
   ]
  },
  {
   "cell_type": "code",
   "execution_count": 8,
   "id": "e2df340d",
   "metadata": {},
   "outputs": [
    {
     "name": "stdout",
     "output_type": "stream",
     "text": [
      "True\n"
     ]
    }
   ],
   "source": [
    "c = \"Abcd\" >= \"ABcd\"\n",
    "print(c)"
   ]
  },
  {
   "cell_type": "code",
   "execution_count": 9,
   "id": "467ece7f",
   "metadata": {},
   "outputs": [
    {
     "name": "stdout",
     "output_type": "stream",
     "text": [
      "True\n"
     ]
    }
   ],
   "source": [
    "d = \"abcd\" >= \"abc\"\n",
    "print(d)"
   ]
  },
  {
   "cell_type": "code",
   "execution_count": 10,
   "id": "c6afb57e",
   "metadata": {},
   "outputs": [
    {
     "name": "stdout",
     "output_type": "stream",
     "text": [
      "False\n"
     ]
    }
   ],
   "source": [
    "e = \"abcdef\" != \"abcdef\"\n",
    "print(e)"
   ]
  },
  {
   "cell_type": "markdown",
   "id": "77020cfc",
   "metadata": {},
   "source": [
    "### Operators on strings"
   ]
  },
  {
   "cell_type": "code",
   "execution_count": 16,
   "id": "3ab52a90",
   "metadata": {},
   "outputs": [
    {
     "data": {
      "text/plain": [
       "['Hello', 'my', 'name is abcd']"
      ]
     },
     "execution_count": 16,
     "metadata": {},
     "output_type": "execute_result"
    }
   ],
   "source": [
    "string = \"Hello my name is abcd\"\n",
    "string.split(\" \", 2)"
   ]
  },
  {
   "cell_type": "code",
   "execution_count": 15,
   "id": "dcdc03b6",
   "metadata": {},
   "outputs": [
    {
     "data": {
      "text/plain": [
       "['Hello', 'My', 'Name', 'Is', 'ADevil78']"
      ]
     },
     "execution_count": 15,
     "metadata": {},
     "output_type": "execute_result"
    }
   ],
   "source": [
    "s = \"Hello My Name Is ADevil78\"\n",
    "s.split()"
   ]
  },
  {
   "cell_type": "code",
   "execution_count": 19,
   "id": "c82ce470",
   "metadata": {},
   "outputs": [
    {
     "name": "stdout",
     "output_type": "stream",
     "text": [
      "Good Morning My Name is ADevil\n",
      "Hello My Name is ADevil\n"
     ]
    }
   ],
   "source": [
    "a = \"Hello My Name is ADevil\"\n",
    "print(a.replace(\"Hello\", \"Good Morning\"))\n",
    "print(a)                          # this will print the original string bcoz strings are immutable"
   ]
  },
  {
   "cell_type": "code",
   "execution_count": 23,
   "id": "b2354bbe",
   "metadata": {},
   "outputs": [
    {
     "name": "stdout",
     "output_type": "stream",
     "text": [
      "My name is not Abcd Abcd ADevil\n"
     ]
    }
   ],
   "source": [
    "strin = \"My name is not ADevil ADevil ADevil\"\n",
    "strin = strin.replace(\"ADevil\" , \"Abcd\" , 2)\n",
    "print(strin)"
   ]
  },
  {
   "cell_type": "code",
   "execution_count": 25,
   "id": "859b2f36",
   "metadata": {},
   "outputs": [
    {
     "name": "stdout",
     "output_type": "stream",
     "text": [
      "4\n"
     ]
    }
   ],
   "source": [
    "stringg = \"My name is abcdef.\"\n",
    "x = stringg.find(\"ame\")\n",
    "print(x)"
   ]
  },
  {
   "cell_type": "code",
   "execution_count": 27,
   "id": "a17ca354",
   "metadata": {},
   "outputs": [
    {
     "name": "stdout",
     "output_type": "stream",
     "text": [
      "0\n"
     ]
    }
   ],
   "source": [
    "sing = \"Adevil Adevil\"\n",
    "print(sing.find(\"Adevil\"))       # it returns the first index"
   ]
  },
  {
   "cell_type": "code",
   "execution_count": 34,
   "id": "dd9520f7",
   "metadata": {},
   "outputs": [
    {
     "name": "stdout",
     "output_type": "stream",
     "text": [
      "7\n"
     ]
    }
   ],
   "source": [
    "var = \"Adevil Adevil Adevil\"\n",
    "v_ = var.find(\"Adevil\", 7,13)    # 7,13 is the range in which to find the string\n",
    "print(v_)"
   ]
  },
  {
   "cell_type": "code",
   "execution_count": 37,
   "id": "c8d609fe",
   "metadata": {},
   "outputs": [
    {
     "name": "stdout",
     "output_type": "stream",
     "text": [
      "my name is adevil\n",
      "MY NAME IS ADEVIL\n"
     ]
    }
   ],
   "source": [
    "vs = \"My name is ADevil\"\n",
    "vs_ = vs.lower()         # for turning into lowercase\n",
    "print(vs_)\n",
    "vs__ = vs.upper()        # for turning into uppercase \n",
    "print(vs__)"
   ]
  },
  {
   "cell_type": "code",
   "execution_count": 40,
   "id": "c70df7a2",
   "metadata": {},
   "outputs": [
    {
     "name": "stdout",
     "output_type": "stream",
     "text": [
      "True\n",
      "False\n",
      "True\n"
     ]
    }
   ],
   "source": [
    "vstring = \"My name is ADevil\"\n",
    "ans = vstring.startswith(\"My nam\")\n",
    "print(ans)\n",
    "ans_ = vstring.startswith(\"Me \")\n",
    "print(ans_)\n",
    "ans__ = vstring.startswith(\"ADevil\" , 11, 20)\n",
    "print(ans__)"
   ]
  },
  {
   "cell_type": "markdown",
   "id": "fc5e7f2a",
   "metadata": {},
   "source": [
    "### Replacing Character in a String"
   ]
  },
  {
   "cell_type": "code",
   "execution_count": 2,
   "id": "4ff20031",
   "metadata": {},
   "outputs": [
    {
     "name": "stdout",
     "output_type": "stream",
     "text": [
      "zsjkdfzjmdzsl\n"
     ]
    }
   ],
   "source": [
    "def charreplace(string,chr1,chr2):\n",
    "    newstr = \"\"\n",
    "    for i in string:\n",
    "        if i == chr1:\n",
    "            newstr += chr2\n",
    "        else:\n",
    "            newstr += i\n",
    "    return newstr\n",
    "string = \"asjkdfajmdasl\"\n",
    "ns = charreplace(string,\"a\", \"z\")\n",
    "print(ns)"
   ]
  },
  {
   "cell_type": "markdown",
   "id": "e44c6d5b",
   "metadata": {},
   "source": [
    "### Counting in strings"
   ]
  },
  {
   "cell_type": "code",
   "execution_count": 4,
   "id": "5fd39763",
   "metadata": {},
   "outputs": [
    {
     "name": "stdout",
     "output_type": "stream",
     "text": [
      "8 31 18 9\n"
     ]
    }
   ],
   "source": [
    "def countstring(string_):\n",
    "    v,c,n,s=0,0,0,0\n",
    "    for i in string_:\n",
    "        if(i>=\"a\" and i<=\"z\") or (i>=\"A\" and i<=\"Z\"):\n",
    "            i = i.lower()\n",
    "            if (i==\"a\" or i==\"e\" or i==\"i\" or i==\"o\" or i==\"u\"):\n",
    "                v += 1\n",
    "            else:\n",
    "                c += 1\n",
    "        elif(i>=\"0\" and i<=\"9\"):\n",
    "            n += 1\n",
    "        else:\n",
    "            s += 1\n",
    "    \n",
    "    return v,c,n,s\n",
    "\n",
    "string = \"sjk/dnas@das52das5[$61d1s541t1]wedvbsd%bvsg48^9eq1g5mk&u1y56af)eqq\"\n",
    "v,c,n,s = countstring(string)\n",
    "print(v,c,n,s)"
   ]
  },
  {
   "cell_type": "code",
   "execution_count": 5,
   "id": "eeef0843",
   "metadata": {},
   "outputs": [
    {
     "name": "stdout",
     "output_type": "stream",
     "text": [
      "['a', 'a', 'a', 'c', 'c', 'd', 'd', 'd', 'd', 'd', 'f', 'i', 'i', 'j', 'j', 'j', 'j', 'm', 'm', 'm', 'm', 'n', 'n', 'n', 'n', 'o', 'q', 'q', 's', 's', 's', 'w']\n"
     ]
    }
   ],
   "source": [
    "a = \"dnjnjiqndjmqwjomcdasmicnasdmfasd\"\n",
    "print(sorted(a))"
   ]
  }
 ],
 "metadata": {
  "kernelspec": {
   "display_name": "Python 3 (ipykernel)",
   "language": "python",
   "name": "python3"
  },
  "language_info": {
   "codemirror_mode": {
    "name": "ipython",
    "version": 3
   },
   "file_extension": ".py",
   "mimetype": "text/x-python",
   "name": "python",
   "nbconvert_exporter": "python",
   "pygments_lexer": "ipython3",
   "version": "3.11.2"
  }
 },
 "nbformat": 4,
 "nbformat_minor": 5
}
