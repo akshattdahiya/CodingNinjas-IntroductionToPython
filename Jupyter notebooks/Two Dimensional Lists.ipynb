{
 "cells": [
  {
   "cell_type": "markdown",
   "id": "d68ffc6b",
   "metadata": {},
   "source": [
    "### Intro to 2d lists"
   ]
  },
  {
   "cell_type": "code",
   "execution_count": 4,
   "id": "69ff291e",
   "metadata": {},
   "outputs": [],
   "source": [
    "twodlist = [[1,2,3,4],[5,6,7,8],[9,10,11,12],[13,14,15,16]]\n",
    "\n",
    "1,2,3,4\n",
    "5,6,7,8\n",
    "9,10,11,12\n",
    "13,14,15,16\n",
    "This is the two dimensional array that is created."
   ]
  },
  {
   "cell_type": "code",
   "execution_count": 11,
   "id": "e66236f4",
   "metadata": {},
   "outputs": [
    {
     "name": "stdout",
     "output_type": "stream",
     "text": [
      "11\n",
      "12\n"
     ]
    }
   ],
   "source": [
    "print(twodlist[2][2])        # this is 2nd row 3rd column\n",
    "print(twodlist[2][3])        # this is 2nd row 4th column"
   ]
  },
  {
   "cell_type": "code",
   "execution_count": 12,
   "id": "c804590a",
   "metadata": {},
   "outputs": [
    {
     "ename": "IndexError",
     "evalue": "list index out of range",
     "output_type": "error",
     "traceback": [
      "\u001b[1;31m---------------------------------------------------------------------------\u001b[0m",
      "\u001b[1;31mIndexError\u001b[0m                                Traceback (most recent call last)",
      "Cell \u001b[1;32mIn[12], line 1\u001b[0m\n\u001b[1;32m----> 1\u001b[0m \u001b[38;5;28mprint\u001b[39m(\u001b[43mtwodlist\u001b[49m\u001b[43m[\u001b[49m\u001b[38;5;241;43m2\u001b[39;49m\u001b[43m]\u001b[49m\u001b[43m[\u001b[49m\u001b[38;5;241;43m10\u001b[39;49m\u001b[43m]\u001b[49m)       \u001b[38;5;66;03m# this is out of range\u001b[39;00m\n",
      "\u001b[1;31mIndexError\u001b[0m: list index out of range"
     ]
    }
   ],
   "source": [
    "print(twodlist[2][10])       # this is out of range"
   ]
  },
  {
   "cell_type": "markdown",
   "id": "ee27a719",
   "metadata": {},
   "source": [
    "### Updating an element in the 2d list"
   ]
  },
  {
   "cell_type": "code",
   "execution_count": 13,
   "id": "d158f3b5",
   "metadata": {},
   "outputs": [
    {
     "name": "stdout",
     "output_type": "stream",
     "text": [
      "[[1, 2, 3, 4], [5, 6, 7, 100], [9, 10, 11, 12], [13, 14, 15, 16]]\n"
     ]
    }
   ],
   "source": [
    "twodlist[1][3] = 100\n",
    "print(twodlist)"
   ]
  },
  {
   "cell_type": "code",
   "execution_count": 14,
   "id": "9455f884",
   "metadata": {},
   "outputs": [],
   "source": [
    "li = [[1,2,3,4],[5,6,7,8],[9,10,11,12],[13,14,15,16]]"
   ]
  },
  {
   "cell_type": "code",
   "execution_count": 19,
   "id": "dd595a9d",
   "metadata": {},
   "outputs": [
    {
     "data": {
      "text/plain": [
       "[[1, 2, 3, 4], [5, 6, 7, 8]]"
      ]
     },
     "execution_count": 19,
     "metadata": {},
     "output_type": "execute_result"
    }
   ],
   "source": [
    "li[0:2]"
   ]
  },
  {
   "cell_type": "code",
   "execution_count": 22,
   "id": "787f9978",
   "metadata": {},
   "outputs": [
    {
     "name": "stdout",
     "output_type": "stream",
     "text": [
      "1 5 3 8 33\n"
     ]
    }
   ],
   "source": [
    "a = [int(x) for x in input().split()]"
   ]
  },
  {
   "cell_type": "code",
   "execution_count": 23,
   "id": "47021958",
   "metadata": {},
   "outputs": [
    {
     "data": {
      "text/plain": [
       "list"
      ]
     },
     "execution_count": 23,
     "metadata": {},
     "output_type": "execute_result"
    }
   ],
   "source": [
    "type(li[0])"
   ]
  },
  {
   "cell_type": "code",
   "execution_count": 25,
   "id": "bf492ca7",
   "metadata": {},
   "outputs": [
    {
     "name": "stdout",
     "output_type": "stream",
     "text": [
      "2688922927488\n",
      "2688923114304\n"
     ]
    }
   ],
   "source": [
    "print(id(li))\n",
    "print(id(li[0]))"
   ]
  },
  {
   "cell_type": "markdown",
   "id": "09edcdaa",
   "metadata": {},
   "source": [
    "### Jagged Lists"
   ]
  },
  {
   "cell_type": "code",
   "execution_count": 26,
   "id": "6e192f6e",
   "metadata": {},
   "outputs": [],
   "source": [
    "list_ = [[1,5,23,7],[2,346,54],[9,5,57,2,356,89]]"
   ]
  },
  {
   "cell_type": "markdown",
   "id": "acddbac6",
   "metadata": {},
   "source": [
    "### List Comprehension"
   ]
  },
  {
   "cell_type": "code",
   "execution_count": 28,
   "id": "b377a5f9",
   "metadata": {},
   "outputs": [
    {
     "name": "stdout",
     "output_type": "stream",
     "text": [
      "[1, 4, 9, 16]\n"
     ]
    }
   ],
   "source": [
    "li = [1,2,3,4]\n",
    "li_new=[]\n",
    "for i in li:\n",
    "    li_new.append(i**2)\n",
    "print(li_new)"
   ]
  },
  {
   "cell_type": "code",
   "execution_count": 32,
   "id": "4f35eb8d",
   "metadata": {},
   "outputs": [
    {
     "name": "stdout",
     "output_type": "stream",
     "text": [
      "[25, 36, 49, 64, 81, 100, 121, 144]\n"
     ]
    }
   ],
   "source": [
    "li = [5,6,7,8,9,10,11,12]\n",
    "li_squared = [ele**2 for ele in li]\n",
    "print(li_squared)"
   ]
  },
  {
   "cell_type": "code",
   "execution_count": 33,
   "id": "e58d67e3",
   "metadata": {},
   "outputs": [
    {
     "name": "stdout",
     "output_type": "stream",
     "text": [
      "[36, 64, 100, 144]\n"
     ]
    }
   ],
   "source": [
    "li_even_sq = [element**2 for element in li if element%2==0]\n",
    "print(li_even_sq)"
   ]
  },
  {
   "cell_type": "code",
   "execution_count": 36,
   "id": "88a26aca",
   "metadata": {},
   "outputs": [
    {
     "name": "stdout",
     "output_type": "stream",
     "text": [
      "[36, 144]\n"
     ]
    }
   ],
   "source": [
    "li = [1,2,3,4,5,6,7,8,9,10,11,12,13]\n",
    "li_new=[]\n",
    "for i in li:\n",
    "    if i%2==0:\n",
    "        if i%3==0:\n",
    "            li_new.append(i**2)\n",
    "print(li_new)"
   ]
  },
  {
   "cell_type": "code",
   "execution_count": 37,
   "id": "65038c30",
   "metadata": {},
   "outputs": [
    {
     "name": "stdout",
     "output_type": "stream",
     "text": [
      "[36, 144]\n"
     ]
    }
   ],
   "source": [
    "li = [1,2,3,4,5,6,7,8,9,10,11,12,13]\n",
    "li_new = [ele**2 for ele in li if ele%2==0 if ele%3==0]\n",
    "print(li_new)"
   ]
  },
  {
   "cell_type": "code",
   "execution_count": 39,
   "id": "d911ae75",
   "metadata": {},
   "outputs": [
    {
     "name": "stdout",
     "output_type": "stream",
     "text": [
      "[1, 5, 8, 9, 0]\n"
     ]
    }
   ],
   "source": [
    "li1 = [1,2,3,4,5,6,7,8,9,0]\n",
    "li2 = [1,5,8,9,0]\n",
    "li_intersection = [e for e in li1 for e2 in li2 if e==e2]\n",
    "print(li_intersection)"
   ]
  },
  {
   "cell_type": "code",
   "execution_count": 45,
   "id": "10947ea4",
   "metadata": {},
   "outputs": [
    {
     "name": "stdout",
     "output_type": "stream",
     "text": [
      "[1, 8, 3, 64, 5, 216, 7, 512, 9, 0]\n"
     ]
    }
   ],
   "source": [
    "li1 = [1,2,3,4,5,6,7,8,9,0]\n",
    "li_1 = [e**3 if e%2==0 else e for e in li1]\n",
    "print(li_1)"
   ]
  },
  {
   "cell_type": "code",
   "execution_count": 46,
   "id": "ac01e889",
   "metadata": {},
   "outputs": [
    {
     "name": "stdout",
     "output_type": "stream",
     "text": [
      "['A', 'D', 'e', 'v', 'i', 'l']\n"
     ]
    }
   ],
   "source": [
    "s = \"ADevil\"\n",
    "s_li = [x for x in s]\n",
    "print(s_li)"
   ]
  },
  {
   "cell_type": "code",
   "execution_count": 47,
   "id": "e5f25779",
   "metadata": {},
   "outputs": [
    {
     "name": "stdout",
     "output_type": "stream",
     "text": [
      "[['A', 'D', 'e', 'v', 'i', 'l'], ['A', 'D', 'e', 't', 'o', 'n', 'a', 't', 'o', 'r'], ['A', 'D', 'r', 'a', 'g']]\n"
     ]
    }
   ],
   "source": [
    "list_names = [\"ADevil\",\"ADetonator\",\"ADrag\"]\n",
    "li_char = [[x for x in e] for e in list_names]\n",
    "print(li_char)"
   ]
  },
  {
   "cell_type": "code",
   "execution_count": 51,
   "id": "50807537",
   "metadata": {},
   "outputs": [
    {
     "name": "stdout",
     "output_type": "stream",
     "text": [
      "[0, 9, 36, 81]\n"
     ]
    }
   ],
   "source": [
    "li = [ele**2 for ele in range(10) if ele%3 ==0]\n",
    "print(li)"
   ]
  },
  {
   "cell_type": "code",
   "execution_count": 64,
   "id": "4b551103",
   "metadata": {},
   "outputs": [
    {
     "name": "stdout",
     "output_type": "stream",
     "text": [
      "Enter arrays dimensions in the format rows (space) columns\n",
      "2 4 \n",
      "1 2 3 4\n",
      "2 3 4 6\n"
     ]
    }
   ],
   "source": [
    "# input of square list\n",
    "\n",
    "print(\"Enter arrays dimensions in the format rows (space) columns\")\n",
    "li = [x for x in input().split()]\n",
    "a = int(li[0])\n",
    "b = int(li[1])\n",
    "arr = [[j for j in input().split()] for i in range(a)]"
   ]
  },
  {
   "cell_type": "code",
   "execution_count": 65,
   "id": "b06f49bb",
   "metadata": {},
   "outputs": [
    {
     "data": {
      "text/plain": [
       "[['1', '2', '3', '4'], ['2', '3', '4', '6']]"
      ]
     },
     "execution_count": 65,
     "metadata": {},
     "output_type": "execute_result"
    }
   ],
   "source": [
    "arr"
   ]
  },
  {
   "cell_type": "code",
   "execution_count": 66,
   "id": "ab1997a9",
   "metadata": {},
   "outputs": [
    {
     "name": "stdout",
     "output_type": "stream",
     "text": [
      "Enter number of rows of the jagged list 4\n",
      "1 2 3\n",
      "4 5 6 7 9 \n",
      "2\n",
      "495 \n"
     ]
    }
   ],
   "source": [
    "# input of jagged list\n",
    "\n",
    "a = int(input(\"Enter number of rows of the jagged list \"))\n",
    "jlist = [[x for x in input().split()] for i in range(a)]"
   ]
  },
  {
   "cell_type": "code",
   "execution_count": 67,
   "id": "84ec25b4",
   "metadata": {},
   "outputs": [
    {
     "data": {
      "text/plain": [
       "[['1', '2', '3'], ['4', '5', '6', '7', '9'], ['2'], ['495']]"
      ]
     },
     "execution_count": 67,
     "metadata": {},
     "output_type": "execute_result"
    }
   ],
   "source": [
    "jlist"
   ]
  },
  {
   "cell_type": "code",
   "execution_count": 68,
   "id": "22056225",
   "metadata": {},
   "outputs": [
    {
     "name": "stdout",
     "output_type": "stream",
     "text": [
      "3 4\n",
      "1 2 3 4 5 6 7 8 9 10 11 12\n"
     ]
    }
   ],
   "source": [
    "# taking input in a single line\n",
    "\n",
    "s = input().split()\n",
    "n , m = int(s[0]) , int(s[1])\n",
    "b = input().split()\n",
    "arr = [ [ b[m*i + j] for j in range(m)] for i in range(n)]"
   ]
  },
  {
   "cell_type": "code",
   "execution_count": 69,
   "id": "ddbb71dc",
   "metadata": {},
   "outputs": [
    {
     "data": {
      "text/plain": [
       "[['1', '2', '3', '4'], ['5', '6', '7', '8'], ['9', '10', '11', '12']]"
      ]
     },
     "execution_count": 69,
     "metadata": {},
     "output_type": "execute_result"
    }
   ],
   "source": [
    "arr"
   ]
  },
  {
   "cell_type": "code",
   "execution_count": 75,
   "id": "0a6cd655",
   "metadata": {},
   "outputs": [
    {
     "name": "stdout",
     "output_type": "stream",
     "text": [
      "2 3 1 2 3 4 5 6\n"
     ]
    }
   ],
   "source": [
    "s = input().split()\n",
    "n , m = int(s[0]) , int(s[1])\n",
    "b = s[2:]\n",
    "arr = [ [ b[m*i + j] for j in range(m)] for i in range(n)]"
   ]
  },
  {
   "cell_type": "code",
   "execution_count": 76,
   "id": "b5eaa3fa",
   "metadata": {},
   "outputs": [
    {
     "data": {
      "text/plain": [
       "[['1', '2', '3'], ['4', '5', '6']]"
      ]
     },
     "execution_count": 76,
     "metadata": {},
     "output_type": "execute_result"
    }
   ],
   "source": [
    "arr"
   ]
  },
  {
   "cell_type": "code",
   "execution_count": 78,
   "id": "bd407443",
   "metadata": {},
   "outputs": [
    {
     "name": "stdout",
     "output_type": "stream",
     "text": [
      "1 2 3 4 \n",
      "5 6 7 8 \n",
      "9 10 11 12 \n"
     ]
    }
   ],
   "source": [
    "li = [[1,2,3,4],[5,6,7,8],[9,10,11,12]]\n",
    "n = 3\n",
    "m = 4\n",
    "for i in range(n):\n",
    "    for j in range(m):\n",
    "        print(li[i][j],end=\" \")\n",
    "    print()"
   ]
  },
  {
   "cell_type": "code",
   "execution_count": 81,
   "id": "290275a8",
   "metadata": {},
   "outputs": [
    {
     "name": "stdout",
     "output_type": "stream",
     "text": [
      "1 2 3 4 5 \n",
      "2 3 \n",
      "7 3 8 9 10 12 65 \n"
     ]
    }
   ],
   "source": [
    "li = [[1,2,3,4,5],[2,3],[7,3,8,9,10,12,65]]\n",
    "n = 3\n",
    "for i in range(len(li)):\n",
    "    for j in li[i]:\n",
    "        print(j , end=\" \")\n",
    "    print()"
   ]
  },
  {
   "cell_type": "code",
   "execution_count": 82,
   "id": "fa7f9c6a",
   "metadata": {},
   "outputs": [
    {
     "name": "stdout",
     "output_type": "stream",
     "text": [
      "1 2 3 4 5 \n",
      "2 3 \n",
      "7 3 8 9 10 12 65 \n"
     ]
    }
   ],
   "source": [
    "li = [[1,2,3,4,5],[2,3],[7,3,8,9,10,12,65]]\n",
    "n = 3\n",
    "for row in li:\n",
    "    for element in row:\n",
    "        print(element,end=\" \")\n",
    "    print()"
   ]
  },
  {
   "cell_type": "code",
   "execution_count": 83,
   "id": "fca340f7",
   "metadata": {},
   "outputs": [
    {
     "data": {
      "text/plain": [
       "'1abc2abc3'"
      ]
     },
     "execution_count": 83,
     "metadata": {},
     "output_type": "execute_result"
    }
   ],
   "source": [
    "\"abc\".join(\"123\")"
   ]
  },
  {
   "cell_type": "code",
   "execution_count": 84,
   "id": "61c9d5de",
   "metadata": {},
   "outputs": [
    {
     "name": "stdout",
     "output_type": "stream",
     "text": [
      "1 2 3 4 5\n",
      "2 3\n",
      "7 3 8 9 10 12 65\n"
     ]
    }
   ],
   "source": [
    "li = [[1,2,3,4,5],[2,3],[7,3,8,9,10,12,65]]\n",
    "n = 3\n",
    "for row in li:\n",
    "    op = \" \".join(str(e) for e in row)\n",
    "    print(op)"
   ]
  },
  {
   "cell_type": "markdown",
   "id": "31d29566",
   "metadata": {},
   "source": [
    "### Largest col sum"
   ]
  },
  {
   "cell_type": "code",
   "execution_count": 88,
   "id": "31557c70",
   "metadata": {},
   "outputs": [
    {
     "name": "stdout",
     "output_type": "stream",
     "text": [
      "3 24\n"
     ]
    }
   ],
   "source": [
    "def largest_col_sum(arr):\n",
    "    cols = len(li[0])\n",
    "    rows = len(li)\n",
    "    maxsum = -1\n",
    "    index = -1\n",
    "    for j in range(cols):\n",
    "        sum = 0\n",
    "        for i in range(rows):\n",
    "            sum += arr[i][j]\n",
    "        if sum > maxsum:\n",
    "            maxsum = sum\n",
    "            index = j\n",
    "    return index , maxsum\n",
    "\n",
    "li = [[1,2,3,4],[5,6,7,8],[9,10,11,12]]\n",
    "largest_col_index , largest_sum = largest_col_sum(li)\n",
    "print(largest_col_index, largest_sum)"
   ]
  },
  {
   "cell_type": "code",
   "execution_count": 89,
   "id": "80a7c98c",
   "metadata": {},
   "outputs": [
    {
     "name": "stdout",
     "output_type": "stream",
     "text": [
      "3 24\n"
     ]
    }
   ],
   "source": [
    "def largest_col_sum(arr):\n",
    "    cols = len(li[0])\n",
    "    rows = len(li)\n",
    "    maxsum = -1\n",
    "    index = -1\n",
    "    for j in range(cols):\n",
    "        sum = 0\n",
    "        for i in arr:\n",
    "            sum += i[j]\n",
    "        if sum > maxsum:\n",
    "            maxsum = sum\n",
    "            index = j\n",
    "    return index , maxsum\n",
    "\n",
    "li = [[1,2,3,4],[5,6,7,8],[9,10,11,12]]\n",
    "largest_col_index , largest_sum = largest_col_sum(li)\n",
    "print(largest_col_index, largest_sum)"
   ]
  },
  {
   "cell_type": "code",
   "execution_count": null,
   "id": "010f779f",
   "metadata": {},
   "outputs": [],
   "source": [
    "def wavePrint(arr):\n",
    "    nRows = len(arr)\n",
    "    mCols = len(arr[0])\n",
    "    for j in range(mCols):\n",
    "        if j % 2 == 0:\n",
    "            for i in range(nRows):\n",
    "                print(arr[i][j], end = \" \")\n",
    "        else:\n",
    "            for i in range(nCols-1, -1, -1):\n",
    "                print(arr[i][j], end = \" \")    \n",
    "    pass\n",
    "\n",
    "#Main\n",
    "l=[int(i) for i in input().strip().split(' ')]\n",
    "m, n=l[0], l[1]\n",
    "arr = [ [ l[(j*n)+i+2] for i in range(n)] for j in range(m)]\n",
    "wavePrint(arr)"
   ]
  }
 ],
 "metadata": {
  "kernelspec": {
   "display_name": "Python 3 (ipykernel)",
   "language": "python",
   "name": "python3"
  },
  "language_info": {
   "codemirror_mode": {
    "name": "ipython",
    "version": 3
   },
   "file_extension": ".py",
   "mimetype": "text/x-python",
   "name": "python",
   "nbconvert_exporter": "python",
   "pygments_lexer": "ipython3",
   "version": "3.11.2"
  }
 },
 "nbformat": 4,
 "nbformat_minor": 5
}
