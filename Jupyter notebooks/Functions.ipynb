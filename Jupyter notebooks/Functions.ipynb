{
 "cells": [
  {
   "cell_type": "code",
   "execution_count": 9,
   "id": "a261130b",
   "metadata": {},
   "outputs": [],
   "source": [
    "def fact(n):\n",
    "    n_fact=1\n",
    "    for i in range(1,n+1):\n",
    "        n_fact=n_fact*i\n",
    "    return n_fact"
   ]
  },
  {
   "cell_type": "code",
   "execution_count": 15,
   "id": "031b2a12",
   "metadata": {},
   "outputs": [
    {
     "name": "stdout",
     "output_type": "stream",
     "text": [
      "5\n",
      "120\n"
     ]
    }
   ],
   "source": [
    "n=int(input())\n",
    "print(fact(n))"
   ]
  },
  {
   "cell_type": "code",
   "execution_count": 58,
   "id": "1cb5bd92",
   "metadata": {},
   "outputs": [],
   "source": [
    "def prime(n):\n",
    "    for i in range(2,n):\n",
    "        if n%i==0:\n",
    "            break\n",
    "    else:\n",
    "        return True\n",
    "    return False"
   ]
  },
  {
   "cell_type": "code",
   "execution_count": 59,
   "id": "7cf1be46",
   "metadata": {},
   "outputs": [
    {
     "name": "stdout",
     "output_type": "stream",
     "text": [
      "2\n",
      "2  is prime\n"
     ]
    }
   ],
   "source": [
    "y = int(input())\n",
    "if prime(y):\n",
    "    print(y , \" is prime\")\n",
    "else:\n",
    "    print(y , \" is not prime\")"
   ]
  },
  {
   "cell_type": "code",
   "execution_count": 61,
   "id": "690c7582",
   "metadata": {},
   "outputs": [],
   "source": [
    "def printprime(n):\n",
    "    for i in range(2,n+1,1):\n",
    "        iprime = prime(i)\n",
    "        if iprime:\n",
    "            print(i)"
   ]
  },
  {
   "cell_type": "code",
   "execution_count": 62,
   "id": "b66d436c",
   "metadata": {},
   "outputs": [
    {
     "name": "stdout",
     "output_type": "stream",
     "text": [
      "2\n",
      "3\n",
      "5\n",
      "7\n",
      "11\n",
      "13\n",
      "17\n",
      "19\n",
      "23\n",
      "29\n",
      "31\n",
      "37\n",
      "41\n",
      "43\n",
      "47\n"
     ]
    }
   ],
   "source": [
    "printprime(50)"
   ]
  },
  {
   "cell_type": "code",
   "execution_count": 63,
   "id": "1193255c",
   "metadata": {},
   "outputs": [
    {
     "name": "stdout",
     "output_type": "stream",
     "text": [
      "5\n"
     ]
    }
   ],
   "source": [
    "def func(a):\n",
    "    a = a + 10\n",
    "    return a\n",
    "a = 5\n",
    "func(a)\n",
    "print(a)"
   ]
  },
  {
   "cell_type": "markdown",
   "id": "871833c0",
   "metadata": {},
   "source": [
    "### Scope Of Variables"
   ]
  },
  {
   "cell_type": "code",
   "execution_count": 68,
   "id": "1c45b1dc",
   "metadata": {},
   "outputs": [
    {
     "name": "stdout",
     "output_type": "stream",
     "text": [
      "10\n",
      "5\n"
     ]
    },
    {
     "ename": "NameError",
     "evalue": "name 'b1' is not defined",
     "output_type": "error",
     "traceback": [
      "\u001b[1;31m---------------------------------------------------------------------------\u001b[0m",
      "\u001b[1;31mNameError\u001b[0m                                 Traceback (most recent call last)",
      "Cell \u001b[1;32mIn[68], line 7\u001b[0m\n\u001b[0;32m      5\u001b[0m \u001b[38;5;28mprint\u001b[39m(a1)\n\u001b[0;32m      6\u001b[0m f1()\n\u001b[1;32m----> 7\u001b[0m \u001b[38;5;28mprint\u001b[39m(\u001b[43mb1\u001b[49m)\n",
      "\u001b[1;31mNameError\u001b[0m: name 'b1' is not defined"
     ]
    }
   ],
   "source": [
    "a1=10 #Global variable\n",
    "def f1():\n",
    "    b1=5 #local variable\n",
    "    print(b1)\n",
    "print(a1)\n",
    "f1()\n",
    "print(b1)"
   ]
  },
  {
   "cell_type": "code",
   "execution_count": 74,
   "id": "e902f47b",
   "metadata": {},
   "outputs": [
    {
     "name": "stdout",
     "output_type": "stream",
     "text": [
      "10\n",
      "5\n",
      "10\n"
     ]
    },
    {
     "ename": "NameError",
     "evalue": "name 'c2' is not defined",
     "output_type": "error",
     "traceback": [
      "\u001b[1;31m---------------------------------------------------------------------------\u001b[0m",
      "\u001b[1;31mNameError\u001b[0m                                 Traceback (most recent call last)",
      "Cell \u001b[1;32mIn[74], line 8\u001b[0m\n\u001b[0;32m      6\u001b[0m a2\u001b[38;5;241m=\u001b[39m\u001b[38;5;241m10\u001b[39m \u001b[38;5;66;03m# we can call it even if it is below the function but before calling the function\u001b[39;00m\n\u001b[0;32m      7\u001b[0m \u001b[38;5;28mprint\u001b[39m(a2)\n\u001b[1;32m----> 8\u001b[0m \u001b[43mf2\u001b[49m\u001b[43m(\u001b[49m\u001b[43m)\u001b[49m\n\u001b[0;32m      9\u001b[0m c2 \u001b[38;5;241m=\u001b[39m \u001b[38;5;241m20\u001b[39m\n",
      "Cell \u001b[1;32mIn[74], line 5\u001b[0m, in \u001b[0;36mf2\u001b[1;34m()\u001b[0m\n\u001b[0;32m      3\u001b[0m \u001b[38;5;28mprint\u001b[39m(b2)\n\u001b[0;32m      4\u001b[0m \u001b[38;5;28mprint\u001b[39m(a2)\n\u001b[1;32m----> 5\u001b[0m \u001b[38;5;28mprint\u001b[39m(\u001b[43mc2\u001b[49m)\n",
      "\u001b[1;31mNameError\u001b[0m: name 'c2' is not defined"
     ]
    }
   ],
   "source": [
    "def f2():\n",
    "    b2=5\n",
    "    print(b2)\n",
    "    print(a2)\n",
    "    print(c2)\n",
    "a2=10 # we can call it even if it is below the function but before calling the function\n",
    "print(a2)\n",
    "f2()\n",
    "c2 = 20"
   ]
  },
  {
   "cell_type": "code",
   "execution_count": 81,
   "id": "81a73926",
   "metadata": {},
   "outputs": [
    {
     "name": "stdout",
     "output_type": "stream",
     "text": [
      "10\n",
      "20\n",
      "140720697505160\n",
      "10\n",
      "140720697504840\n"
     ]
    }
   ],
   "source": [
    "a3=10\n",
    "def f3():\n",
    "    a3 = 20\n",
    "    print(a3)\n",
    "    print(id(a3))\n",
    "print(a3)\n",
    "f3()\n",
    "print(a3)\n",
    "print(id(a3))\n",
    "#different ids mean that there are two a3's one is local one is global"
   ]
  },
  {
   "cell_type": "code",
   "execution_count": 84,
   "id": "15fcb049",
   "metadata": {},
   "outputs": [
    {
     "name": "stdout",
     "output_type": "stream",
     "text": [
      "10\n",
      "20\n",
      "140720697505160\n",
      "20\n",
      "140720697505160\n"
     ]
    }
   ],
   "source": [
    "a4=10\n",
    "def f4():\n",
    "    global a4   # we are using the a4 global variable\n",
    "    a4 = 20\n",
    "    print(a4)\n",
    "    print(id(a4))\n",
    "print(a4)\n",
    "f4()\n",
    "print(a4)\n",
    "print(id(a4))"
   ]
  },
  {
   "cell_type": "code",
   "execution_count": 89,
   "id": "b22001f5",
   "metadata": {},
   "outputs": [
    {
     "name": "stdout",
     "output_type": "stream",
     "text": [
      "10\n"
     ]
    }
   ],
   "source": [
    "def f():\n",
    "    b=10\n",
    "    return b\n",
    "a = f()\n",
    "print(a)"
   ]
  },
  {
   "cell_type": "markdown",
   "id": "924ca6ad",
   "metadata": {},
   "source": [
    "### Default Arguments"
   ]
  },
  {
   "cell_type": "code",
   "execution_count": 1,
   "id": "283f9836",
   "metadata": {},
   "outputs": [],
   "source": [
    "def sum(a,b,c=0):\n",
    "    x = a+b+c\n",
    "    return x"
   ]
  },
  {
   "cell_type": "code",
   "execution_count": 2,
   "id": "c3c02f51",
   "metadata": {},
   "outputs": [
    {
     "data": {
      "text/plain": [
       "12"
      ]
     },
     "execution_count": 2,
     "metadata": {},
     "output_type": "execute_result"
    }
   ],
   "source": [
    "sum(10,2)"
   ]
  },
  {
   "cell_type": "code",
   "execution_count": 4,
   "id": "68b6c9ca",
   "metadata": {},
   "outputs": [
    {
     "ename": "SyntaxError",
     "evalue": "non-default argument follows default argument (3316878128.py, line 2)",
     "output_type": "error",
     "traceback": [
      "\u001b[1;36m  Cell \u001b[1;32mIn[4], line 2\u001b[1;36m\u001b[0m\n\u001b[1;33m    def sum1(a=0,b,c):\u001b[0m\n\u001b[1;37m                 ^\u001b[0m\n\u001b[1;31mSyntaxError\u001b[0m\u001b[1;31m:\u001b[0m non-default argument follows default argument\n"
     ]
    }
   ],
   "source": [
    "#non default arguments should be before default arguments\n",
    "def sum1(a=0,b,c):\n",
    "    return a+b+c\n",
    "sum1(3,4)"
   ]
  },
  {
   "cell_type": "code",
   "execution_count": 6,
   "id": "9dd73556",
   "metadata": {},
   "outputs": [
    {
     "data": {
      "text/plain": [
       "11"
      ]
     },
     "execution_count": 6,
     "metadata": {},
     "output_type": "execute_result"
    }
   ],
   "source": [
    "def sum2(a,b,c=2,d=0):\n",
    "    return a+b+c+d\n",
    "sum2(1,3,d=5)    # 1+3+2+5"
   ]
  }
 ],
 "metadata": {
  "kernelspec": {
   "display_name": "Python 3 (ipykernel)",
   "language": "python",
   "name": "python3"
  },
  "language_info": {
   "codemirror_mode": {
    "name": "ipython",
    "version": 3
   },
   "file_extension": ".py",
   "mimetype": "text/x-python",
   "name": "python",
   "nbconvert_exporter": "python",
   "pygments_lexer": "ipython3",
   "version": "3.11.2"
  }
 },
 "nbformat": 4,
 "nbformat_minor": 5
}
