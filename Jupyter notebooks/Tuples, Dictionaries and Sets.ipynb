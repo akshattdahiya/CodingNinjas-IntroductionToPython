{
 "cells": [
  {
   "cell_type": "markdown",
   "id": "e45c4076",
   "metadata": {},
   "source": [
    "### Tuples"
   ]
  },
  {
   "cell_type": "code",
   "execution_count": 1,
   "id": "d715486f",
   "metadata": {},
   "outputs": [
    {
     "name": "stdout",
     "output_type": "stream",
     "text": [
      "<class 'tuple'>\n"
     ]
    }
   ],
   "source": [
    "a = (1,2)\n",
    "print(type(a))"
   ]
  },
  {
   "cell_type": "code",
   "execution_count": 2,
   "id": "b1c4a923",
   "metadata": {},
   "outputs": [
    {
     "name": "stdout",
     "output_type": "stream",
     "text": [
      "3\n",
      "4\n",
      "<class 'int'>\n",
      "<class 'int'>\n",
      "(5, 6)\n",
      "<class 'tuple'>\n"
     ]
    }
   ],
   "source": [
    "b = 3\n",
    "c = 4\n",
    "print(b)\n",
    "print(c)\n",
    "print(type(b))\n",
    "print(type(c))\n",
    "\n",
    "e = 5,6\n",
    "print(e)\n",
    "print(type(e))"
   ]
  },
  {
   "cell_type": "code",
   "execution_count": 4,
   "id": "dd2b0b81",
   "metadata": {},
   "outputs": [
    {
     "name": "stdout",
     "output_type": "stream",
     "text": [
      "5 6\n"
     ]
    }
   ],
   "source": [
    "print(e[0],e[1])"
   ]
  },
  {
   "cell_type": "code",
   "execution_count": 5,
   "id": "dadca6ba",
   "metadata": {},
   "outputs": [
    {
     "ename": "TypeError",
     "evalue": "'tuple' object does not support item assignment",
     "output_type": "error",
     "traceback": [
      "\u001b[1;31m---------------------------------------------------------------------------\u001b[0m",
      "\u001b[1;31mTypeError\u001b[0m                                 Traceback (most recent call last)",
      "Cell \u001b[1;32mIn[5], line 1\u001b[0m\n\u001b[1;32m----> 1\u001b[0m \u001b[43me\u001b[49m\u001b[43m[\u001b[49m\u001b[38;5;241;43m0\u001b[39;49m\u001b[43m]\u001b[49m \u001b[38;5;241m=\u001b[39m \u001b[38;5;241m10\u001b[39m\n",
      "\u001b[1;31mTypeError\u001b[0m: 'tuple' object does not support item assignment"
     ]
    }
   ],
   "source": [
    "e[0] = 10"
   ]
  },
  {
   "cell_type": "code",
   "execution_count": 6,
   "id": "c08b3bd4",
   "metadata": {},
   "outputs": [
    {
     "ename": "NameError",
     "evalue": "name 'e' is not defined",
     "output_type": "error",
     "traceback": [
      "\u001b[1;31m---------------------------------------------------------------------------\u001b[0m",
      "\u001b[1;31mNameError\u001b[0m                                 Traceback (most recent call last)",
      "Cell \u001b[1;32mIn[6], line 4\u001b[0m\n\u001b[0;32m      1\u001b[0m \u001b[38;5;66;03m#tuples cannot be edited\u001b[39;00m\n\u001b[0;32m      2\u001b[0m \u001b[38;5;66;03m#but they can be deleted\u001b[39;00m\n\u001b[0;32m      3\u001b[0m \u001b[38;5;28;01mdel\u001b[39;00m e\n\u001b[1;32m----> 4\u001b[0m \u001b[43me\u001b[49m\n",
      "\u001b[1;31mNameError\u001b[0m: name 'e' is not defined"
     ]
    }
   ],
   "source": [
    "#tuples cannot be edited\n",
    "#but they can be deleted\n",
    "del e\n",
    "e"
   ]
  },
  {
   "cell_type": "code",
   "execution_count": 8,
   "id": "514faa92",
   "metadata": {},
   "outputs": [
    {
     "name": "stdout",
     "output_type": "stream",
     "text": [
      "1\n",
      "2\n",
      "3\n",
      "4\n",
      "5\n",
      "6\n"
     ]
    }
   ],
   "source": [
    "# for loop in tuples\n",
    "a = (1,2,3,4,5,6)\n",
    "for i in a:\n",
    "    print(i)"
   ]
  },
  {
   "cell_type": "code",
   "execution_count": 9,
   "id": "dc96eeab",
   "metadata": {},
   "outputs": [
    {
     "data": {
      "text/plain": [
       "True"
      ]
     },
     "execution_count": 9,
     "metadata": {},
     "output_type": "execute_result"
    }
   ],
   "source": [
    "# checking conditions\n",
    "1 in a"
   ]
  },
  {
   "cell_type": "code",
   "execution_count": 10,
   "id": "98e90b6e",
   "metadata": {},
   "outputs": [
    {
     "data": {
      "text/plain": [
       "6"
      ]
     },
     "execution_count": 10,
     "metadata": {},
     "output_type": "execute_result"
    }
   ],
   "source": [
    "# checking length of tuples\n",
    "len(a)"
   ]
  },
  {
   "cell_type": "code",
   "execution_count": 11,
   "id": "67204f2b",
   "metadata": {},
   "outputs": [
    {
     "name": "stdout",
     "output_type": "stream",
     "text": [
      "(1, 2, 3, 4, 5, 6, 7, 8, 9, 10)\n"
     ]
    }
   ],
   "source": [
    "# concatenation of tuples\n",
    "b = (7,8,9,10)\n",
    "c = a + b\n",
    "print(c)"
   ]
  },
  {
   "cell_type": "code",
   "execution_count": 12,
   "id": "3a336529",
   "metadata": {},
   "outputs": [
    {
     "data": {
      "text/plain": [
       "((1, 2, 3, 4, 5, 6), (7, 8, 9, 10))"
      ]
     },
     "execution_count": 12,
     "metadata": {},
     "output_type": "execute_result"
    }
   ],
   "source": [
    "d = (a,b)\n",
    "d"
   ]
  },
  {
   "cell_type": "code",
   "execution_count": 14,
   "id": "39d5afc6",
   "metadata": {},
   "outputs": [
    {
     "data": {
      "text/plain": [
       "(1, 2, 3, 4, 5, 6, 1, 2, 3, 4, 5, 6, 1, 2, 3, 4, 5, 6)"
      ]
     },
     "execution_count": 14,
     "metadata": {},
     "output_type": "execute_result"
    }
   ],
   "source": [
    "# repetition\n",
    "e = a*3\n",
    "e"
   ]
  },
  {
   "cell_type": "code",
   "execution_count": 15,
   "id": "50595170",
   "metadata": {},
   "outputs": [
    {
     "data": {
      "text/plain": [
       "1"
      ]
     },
     "execution_count": 15,
     "metadata": {},
     "output_type": "execute_result"
    }
   ],
   "source": [
    "# minimum operator\n",
    "min(a)"
   ]
  },
  {
   "cell_type": "code",
   "execution_count": 16,
   "id": "b1015c41",
   "metadata": {},
   "outputs": [
    {
     "data": {
      "text/plain": [
       "6"
      ]
     },
     "execution_count": 16,
     "metadata": {},
     "output_type": "execute_result"
    }
   ],
   "source": [
    "# maximum operator\n",
    "max(a)"
   ]
  },
  {
   "cell_type": "code",
   "execution_count": 21,
   "id": "c318d8a0",
   "metadata": {},
   "outputs": [
    {
     "name": "stdout",
     "output_type": "stream",
     "text": [
      "(1, 2, 3, 4, 5, 6, 7, 8, 9, 10)\n"
     ]
    }
   ],
   "source": [
    "li = [1,2,3,4,5,6,7,8,9,10]\n",
    "li = tuple(li)\n",
    "print(li)"
   ]
  },
  {
   "cell_type": "markdown",
   "id": "01f70343",
   "metadata": {},
   "source": [
    "### Variable length input and output"
   ]
  },
  {
   "cell_type": "code",
   "execution_count": 23,
   "id": "073f3299",
   "metadata": {},
   "outputs": [
    {
     "data": {
      "text/plain": [
       "8"
      ]
     },
     "execution_count": 23,
     "metadata": {},
     "output_type": "execute_result"
    }
   ],
   "source": [
    "def sumfunction(a,b):\n",
    "    return a+b\n",
    "a = 3\n",
    "b = 5\n",
    "sumfunction(a,b)"
   ]
  },
  {
   "cell_type": "code",
   "execution_count": 29,
   "id": "058145f4",
   "metadata": {},
   "outputs": [],
   "source": [
    "def sum_variable_length(a,b,*more):\n",
    "    print(a , \",\" , type(a))\n",
    "    print(b , \",\" , type(b))\n",
    "    print(more , \",\" , type(more))\n",
    "    ans = a+b\n",
    "    for i in more:\n",
    "        ans += i\n",
    "    print(ans)"
   ]
  },
  {
   "cell_type": "code",
   "execution_count": 30,
   "id": "1f0b69bd",
   "metadata": {},
   "outputs": [
    {
     "name": "stdout",
     "output_type": "stream",
     "text": [
      "1 , <class 'int'>\n",
      "5 , <class 'int'>\n",
      "() , <class 'tuple'>\n",
      "6\n"
     ]
    }
   ],
   "source": [
    "sum_variable_length(1,5)"
   ]
  },
  {
   "cell_type": "code",
   "execution_count": 31,
   "id": "f310f64f",
   "metadata": {},
   "outputs": [
    {
     "name": "stdout",
     "output_type": "stream",
     "text": [
      "2 , <class 'int'>\n",
      "5 , <class 'int'>\n",
      "(6, 8) , <class 'tuple'>\n",
      "21\n"
     ]
    }
   ],
   "source": [
    "sum_variable_length(2,5,6,8)"
   ]
  },
  {
   "cell_type": "code",
   "execution_count": 34,
   "id": "01836bdf",
   "metadata": {},
   "outputs": [
    {
     "name": "stdout",
     "output_type": "stream",
     "text": [
      "<class 'tuple'>\n",
      "(5, 3)\n"
     ]
    }
   ],
   "source": [
    "def func_(a,b):\n",
    "    return a+b,a-b\n",
    "\n",
    "\n",
    "c = func_(4,1)\n",
    "print(type(c))\n",
    "print(c)"
   ]
  },
  {
   "cell_type": "markdown",
   "id": "84992b27",
   "metadata": {},
   "source": [
    "### Dictionaries"
   ]
  },
  {
   "cell_type": "code",
   "execution_count": 35,
   "id": "f19d03f9",
   "metadata": {},
   "outputs": [
    {
     "data": {
      "text/plain": [
       "dict"
      ]
     },
     "execution_count": 35,
     "metadata": {},
     "output_type": "execute_result"
    }
   ],
   "source": [
    "a = {}\n",
    "type(a)"
   ]
  },
  {
   "cell_type": "code",
   "execution_count": 1,
   "id": "f91049d5",
   "metadata": {},
   "outputs": [],
   "source": [
    "a = {\"The\":1 , \"a\":5 ,  101010:\"s\"}      # key : value"
   ]
  },
  {
   "cell_type": "code",
   "execution_count": 2,
   "id": "bb2d0492",
   "metadata": {},
   "outputs": [
    {
     "data": {
      "text/plain": [
       "{'The': 1, 'a': 5, 101010: 's'}"
      ]
     },
     "execution_count": 2,
     "metadata": {},
     "output_type": "execute_result"
    }
   ],
   "source": [
    "a"
   ]
  },
  {
   "cell_type": "code",
   "execution_count": 3,
   "id": "3410ca29",
   "metadata": {},
   "outputs": [
    {
     "data": {
      "text/plain": [
       "3"
      ]
     },
     "execution_count": 3,
     "metadata": {},
     "output_type": "execute_result"
    }
   ],
   "source": [
    "len(a)"
   ]
  },
  {
   "cell_type": "code",
   "execution_count": 4,
   "id": "79cb2fa3",
   "metadata": {},
   "outputs": [],
   "source": [
    "# copying a dictionary to another\n",
    "b = a.copy()"
   ]
  },
  {
   "cell_type": "code",
   "execution_count": 5,
   "id": "fab01acc",
   "metadata": {},
   "outputs": [
    {
     "data": {
      "text/plain": [
       "{'The': 1, 'a': 5, 101010: 's'}"
      ]
     },
     "execution_count": 5,
     "metadata": {},
     "output_type": "execute_result"
    }
   ],
   "source": [
    "b"
   ]
  },
  {
   "cell_type": "code",
   "execution_count": 6,
   "id": "63547068",
   "metadata": {},
   "outputs": [],
   "source": [
    "c = dict([(\"I am spiderman\", 1000),(\"The name is \" , \"20\"),(\"Miles Morales\" , \"spiderverse\")])"
   ]
  },
  {
   "cell_type": "code",
   "execution_count": 7,
   "id": "74f7370e",
   "metadata": {},
   "outputs": [
    {
     "data": {
      "text/plain": [
       "{'I am spiderman': 1000, 'The name is ': '20', 'Miles Morales': 'spiderverse'}"
      ]
     },
     "execution_count": 7,
     "metadata": {},
     "output_type": "execute_result"
    }
   ],
   "source": [
    "c"
   ]
  },
  {
   "cell_type": "code",
   "execution_count": 5,
   "id": "a64d1327",
   "metadata": {},
   "outputs": [],
   "source": [
    "d = dict.fromkeys([\"abc\" , 123 , \"a1b2c3\"] , 100)         #the default value they take is none"
   ]
  },
  {
   "cell_type": "code",
   "execution_count": 6,
   "id": "78bd6d76",
   "metadata": {},
   "outputs": [
    {
     "data": {
      "text/plain": [
       "{'abc': 100, 123: 100, 'a1b2c3': 100}"
      ]
     },
     "execution_count": 6,
     "metadata": {},
     "output_type": "execute_result"
    }
   ],
   "source": [
    "d"
   ]
  },
  {
   "cell_type": "markdown",
   "id": "e6973f74",
   "metadata": {},
   "source": [
    "### Functions on dictionaries"
   ]
  },
  {
   "cell_type": "code",
   "execution_count": 26,
   "id": "704ed692",
   "metadata": {},
   "outputs": [],
   "source": [
    "dic = {1:2 , \"str\":[1,2,3,4,5] , \"happy\":\"word\" , \"dict\":{1:2 , 7:8}}"
   ]
  },
  {
   "cell_type": "code",
   "execution_count": 27,
   "id": "62508a13",
   "metadata": {
    "scrolled": true
   },
   "outputs": [
    {
     "data": {
      "text/plain": [
       "{1: 2, 'str': [1, 2, 3, 4, 5], 'happy': 'word', 'dict': {1: 2, 7: 8}}"
      ]
     },
     "execution_count": 27,
     "metadata": {},
     "output_type": "execute_result"
    }
   ],
   "source": [
    "dic"
   ]
  },
  {
   "cell_type": "markdown",
   "id": "7502d5cc",
   "metadata": {},
   "source": [
    "accessing elements in a dictionary"
   ]
  },
  {
   "cell_type": "code",
   "execution_count": 28,
   "id": "59993b0a",
   "metadata": {
    "scrolled": true
   },
   "outputs": [
    {
     "data": {
      "text/plain": [
       "[1, 2, 3, 4, 5]"
      ]
     },
     "execution_count": 28,
     "metadata": {},
     "output_type": "execute_result"
    }
   ],
   "source": [
    "dic[\"str\"]"
   ]
  },
  {
   "cell_type": "code",
   "execution_count": 29,
   "id": "312ae4c8",
   "metadata": {},
   "outputs": [
    {
     "data": {
      "text/plain": [
       "{1: 2, 7: 8}"
      ]
     },
     "execution_count": 29,
     "metadata": {},
     "output_type": "execute_result"
    }
   ],
   "source": [
    "dic.get(\"dict\")"
   ]
  },
  {
   "cell_type": "code",
   "execution_count": 30,
   "id": "9854a2bc",
   "metadata": {},
   "outputs": [
    {
     "name": "stdout",
     "output_type": "stream",
     "text": [
      "None\n"
     ]
    }
   ],
   "source": [
    "print(dic.get(\"jasdnaskda\"))"
   ]
  },
  {
   "cell_type": "code",
   "execution_count": 31,
   "id": "3af45d9e",
   "metadata": {},
   "outputs": [
    {
     "data": {
      "text/plain": [
       "'There is nothing to see here :D'"
      ]
     },
     "execution_count": 31,
     "metadata": {},
     "output_type": "execute_result"
    }
   ],
   "source": [
    "dic.get(\"kasndasnkl\" , \"There is nothing to see here :D\")    # (x , y)    y -> it will be printed if x is not in the dict"
   ]
  },
  {
   "cell_type": "code",
   "execution_count": 32,
   "id": "85c7cf94",
   "metadata": {},
   "outputs": [
    {
     "data": {
      "text/plain": [
       "dict_keys([1, 'str', 'happy', 'dict'])"
      ]
     },
     "execution_count": 32,
     "metadata": {},
     "output_type": "execute_result"
    }
   ],
   "source": [
    "dic.keys()"
   ]
  },
  {
   "cell_type": "code",
   "execution_count": 33,
   "id": "216e11d0",
   "metadata": {},
   "outputs": [
    {
     "data": {
      "text/plain": [
       "dict_values([2, [1, 2, 3, 4, 5], 'word', {1: 2, 7: 8}])"
      ]
     },
     "execution_count": 33,
     "metadata": {},
     "output_type": "execute_result"
    }
   ],
   "source": [
    "dic.values()"
   ]
  },
  {
   "cell_type": "code",
   "execution_count": 34,
   "id": "cbd7331e",
   "metadata": {},
   "outputs": [
    {
     "data": {
      "text/plain": [
       "dict_items([(1, 2), ('str', [1, 2, 3, 4, 5]), ('happy', 'word'), ('dict', {1: 2, 7: 8})])"
      ]
     },
     "execution_count": 34,
     "metadata": {},
     "output_type": "execute_result"
    }
   ],
   "source": [
    "dic.items()         # it returns the pairs of keys and values"
   ]
  },
  {
   "cell_type": "code",
   "execution_count": 35,
   "id": "716045a4",
   "metadata": {},
   "outputs": [
    {
     "name": "stdout",
     "output_type": "stream",
     "text": [
      "1\n",
      "str\n",
      "happy\n",
      "dict\n"
     ]
    }
   ],
   "source": [
    "for i in dic:\n",
    "    print(i)"
   ]
  },
  {
   "cell_type": "code",
   "execution_count": 36,
   "id": "1e2b4254",
   "metadata": {},
   "outputs": [
    {
     "name": "stdout",
     "output_type": "stream",
     "text": [
      "1  :  2\n",
      "str  :  [1, 2, 3, 4, 5]\n",
      "happy  :  word\n",
      "dict  :  {1: 2, 7: 8}\n"
     ]
    }
   ],
   "source": [
    "for i in dic:\n",
    "    print(i , \" : \" , dic[i])"
   ]
  },
  {
   "cell_type": "code",
   "execution_count": 37,
   "id": "f9df875e",
   "metadata": {},
   "outputs": [
    {
     "name": "stdout",
     "output_type": "stream",
     "text": [
      "2\n",
      "[1, 2, 3, 4, 5]\n",
      "word\n",
      "{1: 2, 7: 8}\n"
     ]
    }
   ],
   "source": [
    "for i in dic.values():\n",
    "    print(i)"
   ]
  },
  {
   "cell_type": "code",
   "execution_count": 40,
   "id": "1f7ae41f",
   "metadata": {},
   "outputs": [
    {
     "name": "stdout",
     "output_type": "stream",
     "text": [
      "False\n",
      "True\n"
     ]
    }
   ],
   "source": [
    "# to check if a key exists in a dictionary\n",
    "\n",
    "print(\"list\" in dic)\n",
    "print('str' in dic)"
   ]
  },
  {
   "cell_type": "markdown",
   "id": "384210f0",
   "metadata": {},
   "source": [
    "adding or removing data from a dictionary"
   ]
  },
  {
   "cell_type": "code",
   "execution_count": 41,
   "id": "a60a93b0",
   "metadata": {},
   "outputs": [
    {
     "data": {
      "text/plain": [
       "{1: 2, 'str': [1, 2, 3, 4, 5], 'happy': 'word', 'dict': {1: 2, 7: 8}}"
      ]
     },
     "execution_count": 41,
     "metadata": {},
     "output_type": "execute_result"
    }
   ],
   "source": [
    "dic"
   ]
  },
  {
   "cell_type": "code",
   "execution_count": 44,
   "id": "975542f8",
   "metadata": {},
   "outputs": [],
   "source": [
    "dic[\"tuple\"] = (\"xyz\" , 123 , [1,2,3,4])           # dic[key]=value"
   ]
  },
  {
   "cell_type": "code",
   "execution_count": 45,
   "id": "45343a37",
   "metadata": {},
   "outputs": [
    {
     "data": {
      "text/plain": [
       "{1: 2,\n",
       " 'str': [1, 2, 3, 4, 5],\n",
       " 'happy': 'word',\n",
       " 'dict': {1: 2, 7: 8},\n",
       " 'tuple': ('xyz', 123, [1, 2, 3, 4])}"
      ]
     },
     "execution_count": 45,
     "metadata": {},
     "output_type": "execute_result"
    }
   ],
   "source": [
    "dic"
   ]
  },
  {
   "cell_type": "code",
   "execution_count": 48,
   "id": "a2681e99",
   "metadata": {},
   "outputs": [],
   "source": [
    "dic[1] = 500     # changing a value"
   ]
  },
  {
   "cell_type": "code",
   "execution_count": 49,
   "id": "75f25fd2",
   "metadata": {
    "scrolled": true
   },
   "outputs": [
    {
     "data": {
      "text/plain": [
       "{1: 500,\n",
       " 'str': [1, 2, 3, 4, 5],\n",
       " 'happy': 'word',\n",
       " 'dict': {1: 2, 7: 8},\n",
       " 'tuple': ('xyz', 123, [1, 2, 3, 4])}"
      ]
     },
     "execution_count": 49,
     "metadata": {},
     "output_type": "execute_result"
    }
   ],
   "source": [
    "dic"
   ]
  },
  {
   "cell_type": "code",
   "execution_count": 50,
   "id": "42b24c7f",
   "metadata": {},
   "outputs": [],
   "source": [
    "a = {\"str\":123 , \"li\":[\"zyx\" , 5124]}"
   ]
  },
  {
   "cell_type": "code",
   "execution_count": 51,
   "id": "06224889",
   "metadata": {},
   "outputs": [],
   "source": [
    "dic.update(a)"
   ]
  },
  {
   "cell_type": "code",
   "execution_count": 52,
   "id": "e3db8561",
   "metadata": {},
   "outputs": [
    {
     "data": {
      "text/plain": [
       "{1: 500,\n",
       " 'str': 123,\n",
       " 'happy': 'word',\n",
       " 'dict': {1: 2, 7: 8},\n",
       " 'tuple': ('xyz', 123, [1, 2, 3, 4]),\n",
       " 'li': ['zyx', 5124]}"
      ]
     },
     "execution_count": 52,
     "metadata": {},
     "output_type": "execute_result"
    }
   ],
   "source": [
    "dic"
   ]
  },
  {
   "cell_type": "code",
   "execution_count": 53,
   "id": "c03e0d83",
   "metadata": {},
   "outputs": [
    {
     "data": {
      "text/plain": [
       "{1: 500,\n",
       " 'str': 123,\n",
       " 'happy': 'word',\n",
       " 'dict': {1: 2, 7: 8},\n",
       " 'li': ['zyx', 5124]}"
      ]
     },
     "execution_count": 53,
     "metadata": {},
     "output_type": "execute_result"
    }
   ],
   "source": [
    "# removing data from dict\n",
    "\n",
    "dic.pop(\"tuple\")\n",
    "dic"
   ]
  },
  {
   "cell_type": "code",
   "execution_count": 54,
   "id": "2ec75b99",
   "metadata": {},
   "outputs": [
    {
     "data": {
      "text/plain": [
       "{1: 500, 'str': 123, 'happy': 'word', 'li': ['zyx', 5124]}"
      ]
     },
     "execution_count": 54,
     "metadata": {},
     "output_type": "execute_result"
    }
   ],
   "source": [
    "del dic[\"dict\"]\n",
    "dic"
   ]
  },
  {
   "cell_type": "code",
   "execution_count": 55,
   "id": "509b3dec",
   "metadata": {},
   "outputs": [],
   "source": [
    "dic.clear()"
   ]
  },
  {
   "cell_type": "code",
   "execution_count": 56,
   "id": "b49f31d9",
   "metadata": {},
   "outputs": [
    {
     "data": {
      "text/plain": [
       "{}"
      ]
     },
     "execution_count": 56,
     "metadata": {},
     "output_type": "execute_result"
    }
   ],
   "source": [
    "dic"
   ]
  },
  {
   "cell_type": "code",
   "execution_count": 57,
   "id": "56e0a82a",
   "metadata": {},
   "outputs": [],
   "source": [
    "del dic"
   ]
  },
  {
   "cell_type": "code",
   "execution_count": 58,
   "id": "fc516e10",
   "metadata": {},
   "outputs": [
    {
     "ename": "NameError",
     "evalue": "name 'dic' is not defined",
     "output_type": "error",
     "traceback": [
      "\u001b[1;31m---------------------------------------------------------------------------\u001b[0m",
      "\u001b[1;31mNameError\u001b[0m                                 Traceback (most recent call last)",
      "Cell \u001b[1;32mIn[58], line 1\u001b[0m\n\u001b[1;32m----> 1\u001b[0m \u001b[43mdic\u001b[49m\n",
      "\u001b[1;31mNameError\u001b[0m: name 'dic' is not defined"
     ]
    }
   ],
   "source": [
    "dic"
   ]
  },
  {
   "cell_type": "markdown",
   "id": "41fbd8f3",
   "metadata": {},
   "source": [
    "Print all the words with frequency k"
   ]
  },
  {
   "cell_type": "code",
   "execution_count": 4,
   "id": "cc8ae715",
   "metadata": {},
   "outputs": [],
   "source": [
    "string = \"This is a word string with many many word\"\n",
    "k = 2"
   ]
  },
  {
   "cell_type": "code",
   "execution_count": 5,
   "id": "4f3dfe4b",
   "metadata": {},
   "outputs": [],
   "source": [
    "words = string.split()"
   ]
  },
  {
   "cell_type": "code",
   "execution_count": 6,
   "id": "5725dc7a",
   "metadata": {},
   "outputs": [
    {
     "data": {
      "text/plain": [
       "['This', 'is', 'a', 'word', 'string', 'with', 'many', 'many', 'word']"
      ]
     },
     "execution_count": 6,
     "metadata": {},
     "output_type": "execute_result"
    }
   ],
   "source": [
    "words"
   ]
  },
  {
   "cell_type": "code",
   "execution_count": 9,
   "id": "0e976829",
   "metadata": {},
   "outputs": [
    {
     "data": {
      "text/plain": [
       "{'This': 1, 'is': 1, 'a': 1, 'word': 2, 'string': 1, 'with': 1, 'many': 2}"
      ]
     },
     "execution_count": 9,
     "metadata": {},
     "output_type": "execute_result"
    }
   ],
   "source": [
    "d = {}\n",
    "for w in words:\n",
    "    d[w] = d.get(w,0) + 1\n",
    "\n",
    "'''for w in words:\n",
    "    if w in d:\n",
    "        d[w] = d[w]+1\n",
    "    else:\n",
    "        d[w] = 1'''\n",
    "\n",
    "d"
   ]
  },
  {
   "cell_type": "code",
   "execution_count": 10,
   "id": "87e55ebc",
   "metadata": {},
   "outputs": [
    {
     "name": "stdout",
     "output_type": "stream",
     "text": [
      "word\n",
      "many\n"
     ]
    }
   ],
   "source": [
    "for x in d:\n",
    "    if d[x] == k:\n",
    "        print(x)"
   ]
  },
  {
   "cell_type": "code",
   "execution_count": 11,
   "id": "603150b1",
   "metadata": {},
   "outputs": [
    {
     "name": "stdout",
     "output_type": "stream",
     "text": [
      "Hello\n",
      "my\n",
      "name\n"
     ]
    }
   ],
   "source": [
    "def printKfreqwords(s , k):\n",
    "    words = s.split()\n",
    "    d = {}\n",
    "    for i in words:\n",
    "        d[i] = d.get(i , 0) + 1\n",
    "    for x in d:\n",
    "        if d[x] == k:\n",
    "            print(x)\n",
    "s = \"Hello Hello , my name is not my name\"\n",
    "k = 2\n",
    "printKfreqwords(s , k)"
   ]
  },
  {
   "cell_type": "markdown",
   "id": "a01be661",
   "metadata": {},
   "source": [
    "### Sets"
   ]
  },
  {
   "cell_type": "code",
   "execution_count": 2,
   "id": "80a0594b",
   "metadata": {},
   "outputs": [
    {
     "data": {
      "text/plain": [
       "{23456, 'apple', 'asjkd'}"
      ]
     },
     "execution_count": 2,
     "metadata": {},
     "output_type": "execute_result"
    }
   ],
   "source": [
    "set_ = {\"apple\" , \"asjkd\" , 23456}\n",
    "set_"
   ]
  },
  {
   "cell_type": "code",
   "execution_count": 3,
   "id": "e74cff7b",
   "metadata": {},
   "outputs": [
    {
     "data": {
      "text/plain": [
       "set"
      ]
     },
     "execution_count": 3,
     "metadata": {},
     "output_type": "execute_result"
    }
   ],
   "source": [
    "type(set_)"
   ]
  },
  {
   "cell_type": "code",
   "execution_count": 4,
   "id": "90628785",
   "metadata": {},
   "outputs": [
    {
     "ename": "TypeError",
     "evalue": "'set' object is not callable",
     "output_type": "error",
     "traceback": [
      "\u001b[1;31m---------------------------------------------------------------------------\u001b[0m",
      "\u001b[1;31mTypeError\u001b[0m                                 Traceback (most recent call last)",
      "Cell \u001b[1;32mIn[4], line 1\u001b[0m\n\u001b[1;32m----> 1\u001b[0m \u001b[43mset_\u001b[49m\u001b[43m(\u001b[49m\u001b[38;5;241;43m0\u001b[39;49m\u001b[43m)\u001b[49m\n",
      "\u001b[1;31mTypeError\u001b[0m: 'set' object is not callable"
     ]
    }
   ],
   "source": [
    "set_(0)"
   ]
  },
  {
   "cell_type": "code",
   "execution_count": 5,
   "id": "0c9469a3",
   "metadata": {
    "scrolled": true
   },
   "outputs": [
    {
     "data": {
      "text/plain": [
       "True"
      ]
     },
     "execution_count": 5,
     "metadata": {},
     "output_type": "execute_result"
    }
   ],
   "source": [
    "\"apple\" in set_"
   ]
  },
  {
   "cell_type": "code",
   "execution_count": 6,
   "id": "ae35a74c",
   "metadata": {},
   "outputs": [
    {
     "name": "stdout",
     "output_type": "stream",
     "text": [
      "23456\n",
      "asjkd\n",
      "apple\n"
     ]
    }
   ],
   "source": [
    "for v in set_:\n",
    "    print(v)"
   ]
  },
  {
   "cell_type": "code",
   "execution_count": 7,
   "id": "f566cabf",
   "metadata": {},
   "outputs": [
    {
     "data": {
      "text/plain": [
       "3"
      ]
     },
     "execution_count": 7,
     "metadata": {},
     "output_type": "execute_result"
    }
   ],
   "source": [
    "len(set_)"
   ]
  },
  {
   "cell_type": "code",
   "execution_count": 8,
   "id": "33d584ab",
   "metadata": {},
   "outputs": [
    {
     "data": {
      "text/plain": [
       "{23456, 'apple', 'asjkd', 'temp'}"
      ]
     },
     "execution_count": 8,
     "metadata": {},
     "output_type": "execute_result"
    }
   ],
   "source": [
    "set_.add(\"temp\")\n",
    "set_"
   ]
  },
  {
   "cell_type": "code",
   "execution_count": 9,
   "id": "b4845125",
   "metadata": {
    "scrolled": true
   },
   "outputs": [
    {
     "data": {
      "text/plain": [
       "{123124, 23456, 'apple', 'asjkd', 'asjndjna', 'temp'}"
      ]
     },
     "execution_count": 9,
     "metadata": {},
     "output_type": "execute_result"
    }
   ],
   "source": [
    "set__ = {\"asjndjna\" , 123124}\n",
    "set_.update(set__)\n",
    "set_"
   ]
  },
  {
   "cell_type": "code",
   "execution_count": 10,
   "id": "d349710c",
   "metadata": {},
   "outputs": [
    {
     "data": {
      "text/plain": [
       "{23456, 'apple', 'asjkd', 'asjndjna', 'temp'}"
      ]
     },
     "execution_count": 10,
     "metadata": {},
     "output_type": "execute_result"
    }
   ],
   "source": [
    "set_.remove(123124)\n",
    "set_"
   ]
  },
  {
   "cell_type": "code",
   "execution_count": 12,
   "id": "66517ec2",
   "metadata": {},
   "outputs": [
    {
     "data": {
      "text/plain": [
       "{23456, 'apple', 'asjkd', 'asjndjna', 'temp'}"
      ]
     },
     "execution_count": 12,
     "metadata": {},
     "output_type": "execute_result"
    }
   ],
   "source": [
    "set_.discard(\"askdnjkasnda\")\n",
    "set_"
   ]
  },
  {
   "cell_type": "code",
   "execution_count": 13,
   "id": "4b5c1c73",
   "metadata": {},
   "outputs": [
    {
     "data": {
      "text/plain": [
       "{'apple', 'asjkd', 'asjndjna', 'temp'}"
      ]
     },
     "execution_count": 13,
     "metadata": {},
     "output_type": "execute_result"
    }
   ],
   "source": [
    "set_.pop()\n",
    "set_"
   ]
  },
  {
   "cell_type": "code",
   "execution_count": 14,
   "id": "7e1d2dfe",
   "metadata": {},
   "outputs": [
    {
     "ename": "NameError",
     "evalue": "name 'set_' is not defined",
     "output_type": "error",
     "traceback": [
      "\u001b[1;31m---------------------------------------------------------------------------\u001b[0m",
      "\u001b[1;31mNameError\u001b[0m                                 Traceback (most recent call last)",
      "Cell \u001b[1;32mIn[14], line 2\u001b[0m\n\u001b[0;32m      1\u001b[0m \u001b[38;5;28;01mdel\u001b[39;00m set_\n\u001b[1;32m----> 2\u001b[0m \u001b[43mset_\u001b[49m\n",
      "\u001b[1;31mNameError\u001b[0m: name 'set_' is not defined"
     ]
    }
   ],
   "source": [
    "del set_\n",
    "set_"
   ]
  },
  {
   "cell_type": "markdown",
   "id": "d6d32e8d",
   "metadata": {},
   "source": [
    "Functions in sets"
   ]
  },
  {
   "cell_type": "code",
   "execution_count": 15,
   "id": "b1d15504",
   "metadata": {},
   "outputs": [],
   "source": [
    "a = {1,2,3,4}\n",
    "b = {3,4,5,6,7}"
   ]
  },
  {
   "cell_type": "code",
   "execution_count": 16,
   "id": "7624a4ba",
   "metadata": {},
   "outputs": [
    {
     "data": {
      "text/plain": [
       "{3, 4}"
      ]
     },
     "execution_count": 16,
     "metadata": {},
     "output_type": "execute_result"
    }
   ],
   "source": [
    "# intersection\n",
    "a.intersection(b)"
   ]
  },
  {
   "cell_type": "code",
   "execution_count": 18,
   "id": "37bf7093",
   "metadata": {},
   "outputs": [
    {
     "data": {
      "text/plain": [
       "{1, 2, 3, 4, 5, 6, 7}"
      ]
     },
     "execution_count": 18,
     "metadata": {},
     "output_type": "execute_result"
    }
   ],
   "source": [
    "# union\n",
    "a.union(b)"
   ]
  },
  {
   "cell_type": "code",
   "execution_count": 19,
   "id": "cad6f562",
   "metadata": {},
   "outputs": [
    {
     "data": {
      "text/plain": [
       "{1, 2}"
      ]
     },
     "execution_count": 19,
     "metadata": {},
     "output_type": "execute_result"
    }
   ],
   "source": [
    "# a-b\n",
    "a.difference(b)"
   ]
  },
  {
   "cell_type": "code",
   "execution_count": 21,
   "id": "94f55a9d",
   "metadata": {},
   "outputs": [
    {
     "data": {
      "text/plain": [
       "{1, 2, 5, 6, 7}"
      ]
     },
     "execution_count": 21,
     "metadata": {},
     "output_type": "execute_result"
    }
   ],
   "source": [
    "# symmetric difference\n",
    "a.symmetric_difference(b)"
   ]
  },
  {
   "cell_type": "code",
   "execution_count": 22,
   "id": "9d13102a",
   "metadata": {},
   "outputs": [
    {
     "data": {
      "text/plain": [
       "{3, 4}"
      ]
     },
     "execution_count": 22,
     "metadata": {},
     "output_type": "execute_result"
    }
   ],
   "source": [
    "a.intersection_update(b)\n",
    "a"
   ]
  },
  {
   "cell_type": "code",
   "execution_count": 23,
   "id": "d31c222a",
   "metadata": {},
   "outputs": [
    {
     "data": {
      "text/plain": [
       "{3, 4}"
      ]
     },
     "execution_count": 23,
     "metadata": {},
     "output_type": "execute_result"
    }
   ],
   "source": [
    "a"
   ]
  },
  {
   "cell_type": "code",
   "execution_count": 24,
   "id": "84b381f0",
   "metadata": {},
   "outputs": [],
   "source": [
    "a = {1,2,3,4}"
   ]
  },
  {
   "cell_type": "code",
   "execution_count": 25,
   "id": "5f7973d2",
   "metadata": {},
   "outputs": [
    {
     "data": {
      "text/plain": [
       "{1, 2}"
      ]
     },
     "execution_count": 25,
     "metadata": {},
     "output_type": "execute_result"
    }
   ],
   "source": [
    "a.difference_update(b)\n",
    "a"
   ]
  },
  {
   "cell_type": "code",
   "execution_count": 26,
   "id": "251cf333",
   "metadata": {},
   "outputs": [],
   "source": [
    "a = {1,2,3,4}"
   ]
  },
  {
   "cell_type": "code",
   "execution_count": 27,
   "id": "4d6525ea",
   "metadata": {},
   "outputs": [
    {
     "data": {
      "text/plain": [
       "{1, 2, 5, 6, 7}"
      ]
     },
     "execution_count": 27,
     "metadata": {},
     "output_type": "execute_result"
    }
   ],
   "source": [
    "a.symmetric_difference_update(b)\n",
    "a"
   ]
  },
  {
   "cell_type": "code",
   "execution_count": 28,
   "id": "d71ca616",
   "metadata": {},
   "outputs": [],
   "source": [
    "a = {1,2,3,4}"
   ]
  },
  {
   "cell_type": "code",
   "execution_count": 29,
   "id": "1ac48559",
   "metadata": {},
   "outputs": [
    {
     "ename": "AttributeError",
     "evalue": "'set' object has no attribute 'union_update'",
     "output_type": "error",
     "traceback": [
      "\u001b[1;31m---------------------------------------------------------------------------\u001b[0m",
      "\u001b[1;31mAttributeError\u001b[0m                            Traceback (most recent call last)",
      "Cell \u001b[1;32mIn[29], line 1\u001b[0m\n\u001b[1;32m----> 1\u001b[0m \u001b[43ma\u001b[49m\u001b[38;5;241;43m.\u001b[39;49m\u001b[43munion_update\u001b[49m(b)\n\u001b[0;32m      2\u001b[0m a\n",
      "\u001b[1;31mAttributeError\u001b[0m: 'set' object has no attribute 'union_update'"
     ]
    }
   ],
   "source": [
    "a.union_update(b)\n",
    "a"
   ]
  },
  {
   "cell_type": "code",
   "execution_count": 30,
   "id": "d82e8632",
   "metadata": {},
   "outputs": [
    {
     "data": {
      "text/plain": [
       "False"
      ]
     },
     "execution_count": 30,
     "metadata": {},
     "output_type": "execute_result"
    }
   ],
   "source": [
    "a.issubset(b)"
   ]
  },
  {
   "cell_type": "code",
   "execution_count": 31,
   "id": "3b4cd2e6",
   "metadata": {},
   "outputs": [
    {
     "data": {
      "text/plain": [
       "True"
      ]
     },
     "execution_count": 31,
     "metadata": {},
     "output_type": "execute_result"
    }
   ],
   "source": [
    "c = {3,4}\n",
    "c.issubset(a)"
   ]
  },
  {
   "cell_type": "code",
   "execution_count": 32,
   "id": "2f678a60",
   "metadata": {},
   "outputs": [
    {
     "data": {
      "text/plain": [
       "True"
      ]
     },
     "execution_count": 32,
     "metadata": {},
     "output_type": "execute_result"
    }
   ],
   "source": [
    "a.issuperset(c)"
   ]
  },
  {
   "cell_type": "code",
   "execution_count": 35,
   "id": "8b6c8780",
   "metadata": {},
   "outputs": [
    {
     "data": {
      "text/plain": [
       "False"
      ]
     },
     "execution_count": 35,
     "metadata": {},
     "output_type": "execute_result"
    }
   ],
   "source": [
    "a.isdisjoint(b)     # false because they have 3,4 in common"
   ]
  },
  {
   "cell_type": "code",
   "execution_count": 36,
   "id": "2e10e543",
   "metadata": {},
   "outputs": [
    {
     "data": {
      "text/plain": [
       "True"
      ]
     },
     "execution_count": 36,
     "metadata": {},
     "output_type": "execute_result"
    }
   ],
   "source": [
    "d = {8,9,10}\n",
    "a.isdisjoint(d)"
   ]
  },
  {
   "cell_type": "code",
   "execution_count": 1,
   "id": "7fe5c459",
   "metadata": {},
   "outputs": [],
   "source": [
    "a = {1,2,3,1,4,5,2,3}"
   ]
  },
  {
   "cell_type": "code",
   "execution_count": 2,
   "id": "342f3328",
   "metadata": {},
   "outputs": [
    {
     "data": {
      "text/plain": [
       "5"
      ]
     },
     "execution_count": 2,
     "metadata": {},
     "output_type": "execute_result"
    }
   ],
   "source": [
    "len(a)"
   ]
  },
  {
   "cell_type": "code",
   "execution_count": 4,
   "id": "a1158804",
   "metadata": {},
   "outputs": [],
   "source": [
    "a.add(2)"
   ]
  },
  {
   "cell_type": "code",
   "execution_count": 5,
   "id": "89a6963a",
   "metadata": {},
   "outputs": [
    {
     "data": {
      "text/plain": [
       "{1, 2, 3, 4, 5}"
      ]
     },
     "execution_count": 5,
     "metadata": {},
     "output_type": "execute_result"
    }
   ],
   "source": [
    "a"
   ]
  },
  {
   "cell_type": "code",
   "execution_count": 8,
   "id": "455630e9",
   "metadata": {},
   "outputs": [],
   "source": [
    "def sumUnique(a):\n",
    "    s = set(a)\n",
    "    sum = 0\n",
    "    for i in s:\n",
    "        sum += i\n",
    "    return sum"
   ]
  },
  {
   "cell_type": "code",
   "execution_count": 9,
   "id": "5733b2ff",
   "metadata": {},
   "outputs": [
    {
     "data": {
      "text/plain": [
       "15"
      ]
     },
     "execution_count": 9,
     "metadata": {},
     "output_type": "execute_result"
    }
   ],
   "source": [
    "sumUnique(a)"
   ]
  }
 ],
 "metadata": {
  "kernelspec": {
   "display_name": "Python 3 (ipykernel)",
   "language": "python",
   "name": "python3"
  },
  "language_info": {
   "codemirror_mode": {
    "name": "ipython",
    "version": 3
   },
   "file_extension": ".py",
   "mimetype": "text/x-python",
   "name": "python",
   "nbconvert_exporter": "python",
   "pygments_lexer": "ipython3",
   "version": "3.11.2"
  }
 },
 "nbformat": 4,
 "nbformat_minor": 5
}
