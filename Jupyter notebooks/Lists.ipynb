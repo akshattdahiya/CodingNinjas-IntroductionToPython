{
 "cells": [
  {
   "cell_type": "markdown",
   "id": "a29f8262",
   "metadata": {},
   "source": [
    "### Creating a list"
   ]
  },
  {
   "cell_type": "code",
   "execution_count": 1,
   "id": "cb283c56",
   "metadata": {},
   "outputs": [],
   "source": [
    "li = []"
   ]
  },
  {
   "cell_type": "code",
   "execution_count": 3,
   "id": "4b780452",
   "metadata": {},
   "outputs": [
    {
     "data": {
      "text/plain": [
       "list"
      ]
     },
     "execution_count": 3,
     "metadata": {},
     "output_type": "execute_result"
    }
   ],
   "source": [
    "list1 = [1,2,3,4]\n",
    "type(list1)"
   ]
  },
  {
   "cell_type": "code",
   "execution_count": 4,
   "id": "f9388d4a",
   "metadata": {},
   "outputs": [],
   "source": [
    "li = [1,2,\"happy\",2.5]"
   ]
  },
  {
   "cell_type": "code",
   "execution_count": 5,
   "id": "c7f46772",
   "metadata": {},
   "outputs": [
    {
     "data": {
      "text/plain": [
       "[1, 2, 'happy', 2.5]"
      ]
     },
     "execution_count": 5,
     "metadata": {},
     "output_type": "execute_result"
    }
   ],
   "source": [
    "li"
   ]
  },
  {
   "cell_type": "markdown",
   "id": "3d3780da",
   "metadata": {},
   "source": [
    "### Access and change elements in a list"
   ]
  },
  {
   "cell_type": "code",
   "execution_count": 9,
   "id": "0e9e7ab5",
   "metadata": {},
   "outputs": [
    {
     "name": "stdout",
     "output_type": "stream",
     "text": [
      "1\n",
      "2\n",
      "happy\n",
      "2.5\n"
     ]
    }
   ],
   "source": [
    "print(li[0])\n",
    "print(li[1])\n",
    "print(li[2])\n",
    "print(li[3])"
   ]
  },
  {
   "cell_type": "code",
   "execution_count": 10,
   "id": "94da0419",
   "metadata": {},
   "outputs": [
    {
     "data": {
      "text/plain": [
       "[1, 2, 'happy', 2.5]"
      ]
     },
     "execution_count": 10,
     "metadata": {},
     "output_type": "execute_result"
    }
   ],
   "source": [
    "li"
   ]
  },
  {
   "cell_type": "code",
   "execution_count": 12,
   "id": "4d716f74",
   "metadata": {},
   "outputs": [],
   "source": [
    "li[0]=20"
   ]
  },
  {
   "cell_type": "code",
   "execution_count": 13,
   "id": "14f6da96",
   "metadata": {},
   "outputs": [
    {
     "data": {
      "text/plain": [
       "[20, 2, 'happy', 2.5]"
      ]
     },
     "execution_count": 13,
     "metadata": {},
     "output_type": "execute_result"
    }
   ],
   "source": [
    "li"
   ]
  },
  {
   "cell_type": "markdown",
   "id": "0fd648e5",
   "metadata": {},
   "source": [
    "### Slicing of a list"
   ]
  },
  {
   "cell_type": "code",
   "execution_count": 16,
   "id": "e0175ecd",
   "metadata": {},
   "outputs": [
    {
     "data": {
      "text/plain": [
       "[20, 2, 'happy', 2.5]"
      ]
     },
     "execution_count": 16,
     "metadata": {},
     "output_type": "execute_result"
    }
   ],
   "source": [
    "li"
   ]
  },
  {
   "cell_type": "code",
   "execution_count": 15,
   "id": "2e6dea7b",
   "metadata": {},
   "outputs": [
    {
     "data": {
      "text/plain": [
       "[2, 'happy']"
      ]
     },
     "execution_count": 15,
     "metadata": {},
     "output_type": "execute_result"
    }
   ],
   "source": [
    "li[1:3]"
   ]
  },
  {
   "cell_type": "code",
   "execution_count": 17,
   "id": "5bd0dc86",
   "metadata": {},
   "outputs": [
    {
     "data": {
      "text/plain": [
       "['happy', 2.5]"
      ]
     },
     "execution_count": 17,
     "metadata": {},
     "output_type": "execute_result"
    }
   ],
   "source": [
    "li[2:]"
   ]
  },
  {
   "cell_type": "code",
   "execution_count": 18,
   "id": "4d5ce878",
   "metadata": {},
   "outputs": [
    {
     "data": {
      "text/plain": [
       "[20, 2, 'happy', 2.5]"
      ]
     },
     "execution_count": 18,
     "metadata": {},
     "output_type": "execute_result"
    }
   ],
   "source": [
    "li[:]"
   ]
  },
  {
   "cell_type": "code",
   "execution_count": 19,
   "id": "b3dd0875",
   "metadata": {},
   "outputs": [
    {
     "data": {
      "text/plain": [
       "[2, 'happy', 2.5]"
      ]
     },
     "execution_count": 19,
     "metadata": {},
     "output_type": "execute_result"
    }
   ],
   "source": [
    "li[1:10]"
   ]
  },
  {
   "cell_type": "markdown",
   "id": "f3692c87",
   "metadata": {},
   "source": [
    "### Insert and append elements in the list"
   ]
  },
  {
   "cell_type": "code",
   "execution_count": 22,
   "id": "2b9ff254",
   "metadata": {},
   "outputs": [],
   "source": [
    "li.append(\"Brother\") #append adds the item to the list at the end"
   ]
  },
  {
   "cell_type": "code",
   "execution_count": 21,
   "id": "a32a610c",
   "metadata": {},
   "outputs": [
    {
     "data": {
      "text/plain": [
       "[20, 2, 'happy', 2.5, 'Brother']"
      ]
     },
     "execution_count": 21,
     "metadata": {},
     "output_type": "execute_result"
    }
   ],
   "source": [
    "li"
   ]
  },
  {
   "cell_type": "code",
   "execution_count": 24,
   "id": "d0ebe2ce",
   "metadata": {},
   "outputs": [],
   "source": [
    "li.insert(1,\"Me\")"
   ]
  },
  {
   "cell_type": "code",
   "execution_count": 25,
   "id": "ed19d2e5",
   "metadata": {},
   "outputs": [
    {
     "data": {
      "text/plain": [
       "[20, 'Me', 'Me', 2, 'happy', 2.5, 'Brother', 'Brother']"
      ]
     },
     "execution_count": 25,
     "metadata": {},
     "output_type": "execute_result"
    }
   ],
   "source": [
    "li"
   ]
  },
  {
   "cell_type": "code",
   "execution_count": 26,
   "id": "f275df0d",
   "metadata": {},
   "outputs": [],
   "source": [
    "li.insert(15,2.8)"
   ]
  },
  {
   "cell_type": "code",
   "execution_count": 27,
   "id": "600aa74f",
   "metadata": {},
   "outputs": [
    {
     "data": {
      "text/plain": [
       "[20, 'Me', 'Me', 2, 'happy', 2.5, 'Brother', 'Brother', 2.8]"
      ]
     },
     "execution_count": 27,
     "metadata": {},
     "output_type": "execute_result"
    }
   ],
   "source": [
    "li"
   ]
  },
  {
   "cell_type": "code",
   "execution_count": 28,
   "id": "6ea12064",
   "metadata": {},
   "outputs": [],
   "source": [
    "li.append([1,2,5,6])"
   ]
  },
  {
   "cell_type": "code",
   "execution_count": 29,
   "id": "eaa1b94d",
   "metadata": {},
   "outputs": [
    {
     "data": {
      "text/plain": [
       "[20, 'Me', 'Me', 2, 'happy', 2.5, 'Brother', 'Brother', 2.8, [1, 2, 5, 6]]"
      ]
     },
     "execution_count": 29,
     "metadata": {},
     "output_type": "execute_result"
    }
   ],
   "source": [
    "li"
   ]
  },
  {
   "cell_type": "code",
   "execution_count": 30,
   "id": "5b7c5c1a",
   "metadata": {},
   "outputs": [],
   "source": [
    "li.extend([1,2,5,6])"
   ]
  },
  {
   "cell_type": "code",
   "execution_count": 31,
   "id": "6293f248",
   "metadata": {},
   "outputs": [
    {
     "data": {
      "text/plain": [
       "[20,\n",
       " 'Me',\n",
       " 'Me',\n",
       " 2,\n",
       " 'happy',\n",
       " 2.5,\n",
       " 'Brother',\n",
       " 'Brother',\n",
       " 2.8,\n",
       " [1, 2, 5, 6],\n",
       " 1,\n",
       " 2,\n",
       " 5,\n",
       " 6]"
      ]
     },
     "execution_count": 31,
     "metadata": {},
     "output_type": "execute_result"
    }
   ],
   "source": [
    "li"
   ]
  },
  {
   "cell_type": "markdown",
   "id": "8501f985",
   "metadata": {},
   "source": [
    "### Removing elements from list"
   ]
  },
  {
   "cell_type": "code",
   "execution_count": 32,
   "id": "3bc7767d",
   "metadata": {},
   "outputs": [],
   "source": [
    "li.remove(2)"
   ]
  },
  {
   "cell_type": "code",
   "execution_count": 33,
   "id": "4aa10d28",
   "metadata": {},
   "outputs": [
    {
     "data": {
      "text/plain": [
       "[20,\n",
       " 'Me',\n",
       " 'Me',\n",
       " 'happy',\n",
       " 2.5,\n",
       " 'Brother',\n",
       " 'Brother',\n",
       " 2.8,\n",
       " [1, 2, 5, 6],\n",
       " 1,\n",
       " 2,\n",
       " 5,\n",
       " 6]"
      ]
     },
     "execution_count": 33,
     "metadata": {},
     "output_type": "execute_result"
    }
   ],
   "source": [
    "li"
   ]
  },
  {
   "cell_type": "code",
   "execution_count": 36,
   "id": "d51f4deb",
   "metadata": {},
   "outputs": [],
   "source": [
    "li.remove(\"Me\")"
   ]
  },
  {
   "cell_type": "code",
   "execution_count": 37,
   "id": "d5544b7b",
   "metadata": {},
   "outputs": [
    {
     "data": {
      "text/plain": [
       "[20, 'Me', 'happy', 2.5, 'Brother', 'Brother', 2.8, [1, 2, 5, 6], 1, 2, 5, 6]"
      ]
     },
     "execution_count": 37,
     "metadata": {},
     "output_type": "execute_result"
    }
   ],
   "source": [
    "li"
   ]
  },
  {
   "cell_type": "code",
   "execution_count": 38,
   "id": "4996eba1",
   "metadata": {},
   "outputs": [],
   "source": [
    "li.remove(\"Brother\")"
   ]
  },
  {
   "cell_type": "code",
   "execution_count": 39,
   "id": "9ea90009",
   "metadata": {},
   "outputs": [
    {
     "data": {
      "text/plain": [
       "[20, 'Me', 'happy', 2.5, 'Brother', 2.8, [1, 2, 5, 6], 1, 2, 5, 6]"
      ]
     },
     "execution_count": 39,
     "metadata": {},
     "output_type": "execute_result"
    }
   ],
   "source": [
    "li"
   ]
  },
  {
   "cell_type": "code",
   "execution_count": 42,
   "id": "601f1ab6",
   "metadata": {},
   "outputs": [
    {
     "data": {
      "text/plain": [
       "5"
      ]
     },
     "execution_count": 42,
     "metadata": {},
     "output_type": "execute_result"
    }
   ],
   "source": [
    "li.pop()  # it removes the element from the last"
   ]
  },
  {
   "cell_type": "code",
   "execution_count": 43,
   "id": "038d8c33",
   "metadata": {},
   "outputs": [
    {
     "data": {
      "text/plain": [
       "[20, 'Me', 'happy', 2.5, 'Brother', 2.8, [1, 2, 5, 6], 1, 2]"
      ]
     },
     "execution_count": 43,
     "metadata": {},
     "output_type": "execute_result"
    }
   ],
   "source": [
    "li"
   ]
  },
  {
   "cell_type": "code",
   "execution_count": 44,
   "id": "4a629889",
   "metadata": {},
   "outputs": [
    {
     "data": {
      "text/plain": [
       "'Me'"
      ]
     },
     "execution_count": 44,
     "metadata": {},
     "output_type": "execute_result"
    }
   ],
   "source": [
    "li.pop(1)"
   ]
  },
  {
   "cell_type": "code",
   "execution_count": 45,
   "id": "a51c12cb",
   "metadata": {},
   "outputs": [
    {
     "data": {
      "text/plain": [
       "[20, 'happy', 2.5, 'Brother', 2.8, [1, 2, 5, 6], 1, 2]"
      ]
     },
     "execution_count": 45,
     "metadata": {},
     "output_type": "execute_result"
    }
   ],
   "source": [
    "li"
   ]
  },
  {
   "cell_type": "code",
   "execution_count": 47,
   "id": "297530e8",
   "metadata": {},
   "outputs": [
    {
     "data": {
      "text/plain": [
       "8"
      ]
     },
     "execution_count": 47,
     "metadata": {},
     "output_type": "execute_result"
    }
   ],
   "source": [
    "len(li) # it states the number of elements in the list"
   ]
  },
  {
   "cell_type": "markdown",
   "id": "179687c2",
   "metadata": {},
   "source": [
    "### Ques"
   ]
  },
  {
   "cell_type": "code",
   "execution_count": 51,
   "id": "6897eb8e",
   "metadata": {},
   "outputs": [],
   "source": [
    "li=[1,4,\"Hello\",8.1]"
   ]
  },
  {
   "cell_type": "code",
   "execution_count": 54,
   "id": "d3fc61f7",
   "metadata": {},
   "outputs": [
    {
     "name": "stdout",
     "output_type": "stream",
     "text": [
      "1\n",
      "4\n",
      "Hello\n",
      "8.1\n"
     ]
    }
   ],
   "source": [
    "for i in range(len(li)):\n",
    "    print(li[i])"
   ]
  },
  {
   "cell_type": "code",
   "execution_count": 56,
   "id": "2032a2bd",
   "metadata": {},
   "outputs": [
    {
     "name": "stdout",
     "output_type": "stream",
     "text": [
      "1\n",
      "4\n",
      "Hello\n",
      "8.1\n"
     ]
    }
   ],
   "source": [
    "for x in li:\n",
    "    print(x)"
   ]
  },
  {
   "cell_type": "code",
   "execution_count": 57,
   "id": "a5d7cc07",
   "metadata": {
    "scrolled": true
   },
   "outputs": [
    {
     "name": "stdout",
     "output_type": "stream",
     "text": [
      "4\n",
      "Hello\n",
      "8.1\n"
     ]
    }
   ],
   "source": [
    "for k in li[1:]:\n",
    "    print(k)"
   ]
  },
  {
   "cell_type": "markdown",
   "id": "950317d5",
   "metadata": {},
   "source": [
    "### Negative indexing and sequencing in a list"
   ]
  },
  {
   "cell_type": "code",
   "execution_count": 58,
   "id": "f0cbe0ad",
   "metadata": {},
   "outputs": [],
   "source": [
    "list=[1,2,3,4]"
   ]
  },
  {
   "cell_type": "code",
   "execution_count": 61,
   "id": "3bfeedbb",
   "metadata": {},
   "outputs": [
    {
     "data": {
      "text/plain": [
       "2"
      ]
     },
     "execution_count": 61,
     "metadata": {},
     "output_type": "execute_result"
    }
   ],
   "source": [
    "list[1]"
   ]
  },
  {
   "cell_type": "code",
   "execution_count": 63,
   "id": "d87e97d8",
   "metadata": {},
   "outputs": [
    {
     "data": {
      "text/plain": [
       "3"
      ]
     },
     "execution_count": 63,
     "metadata": {},
     "output_type": "execute_result"
    }
   ],
   "source": [
    "list[-2]"
   ]
  },
  {
   "cell_type": "code",
   "execution_count": 64,
   "id": "9af0dc22",
   "metadata": {},
   "outputs": [
    {
     "data": {
      "text/plain": [
       "4"
      ]
     },
     "execution_count": 64,
     "metadata": {},
     "output_type": "execute_result"
    }
   ],
   "source": [
    "list[-1]"
   ]
  },
  {
   "cell_type": "code",
   "execution_count": 66,
   "id": "1ba463d3",
   "metadata": {},
   "outputs": [],
   "source": [
    "li=[1,2,3,4,5,6,7]"
   ]
  },
  {
   "cell_type": "code",
   "execution_count": 68,
   "id": "a3d9cca3",
   "metadata": {},
   "outputs": [
    {
     "data": {
      "text/plain": [
       "[1, 3, 5]"
      ]
     },
     "execution_count": 68,
     "metadata": {},
     "output_type": "execute_result"
    }
   ],
   "source": [
    "li[0:6:2]     # [start:end:step] just like range function"
   ]
  },
  {
   "cell_type": "code",
   "execution_count": 69,
   "id": "4fe300fd",
   "metadata": {},
   "outputs": [
    {
     "data": {
      "text/plain": [
       "[2, 5]"
      ]
     },
     "execution_count": 69,
     "metadata": {},
     "output_type": "execute_result"
    }
   ],
   "source": [
    "li[1:10:3]"
   ]
  },
  {
   "cell_type": "code",
   "execution_count": 70,
   "id": "982b6b48",
   "metadata": {},
   "outputs": [
    {
     "data": {
      "text/plain": [
       "[2, 3, 4, 5, 6, 7]"
      ]
     },
     "execution_count": 70,
     "metadata": {},
     "output_type": "execute_result"
    }
   ],
   "source": [
    "li[1:]   #by default end is length of the list and step is 1"
   ]
  },
  {
   "cell_type": "code",
   "execution_count": 72,
   "id": "371eabeb",
   "metadata": {},
   "outputs": [
    {
     "data": {
      "text/plain": [
       "[1, 2, 3, 4, 5]"
      ]
     },
     "execution_count": 72,
     "metadata": {},
     "output_type": "execute_result"
    }
   ],
   "source": [
    "li[:5]   #by default start is 0, step is 1"
   ]
  },
  {
   "cell_type": "code",
   "execution_count": 73,
   "id": "c9bcf33d",
   "metadata": {},
   "outputs": [
    {
     "data": {
      "text/plain": [
       "[3, 4, 5, 6]"
      ]
     },
     "execution_count": 73,
     "metadata": {},
     "output_type": "execute_result"
    }
   ],
   "source": [
    "li[-5:-1]"
   ]
  },
  {
   "cell_type": "markdown",
   "id": "14e1f278",
   "metadata": {},
   "source": [
    "### Line separated input in a list"
   ]
  },
  {
   "cell_type": "code",
   "execution_count": 76,
   "id": "cb6429da",
   "metadata": {},
   "outputs": [
    {
     "name": "stdout",
     "output_type": "stream",
     "text": [
      "3\n",
      "5\n",
      "9\n",
      "1\n"
     ]
    }
   ],
   "source": [
    "n=int(input())\n",
    "li=[]\n",
    "for i in range(n):\n",
    "    x = int(input())\n",
    "    li.append(x)"
   ]
  },
  {
   "cell_type": "code",
   "execution_count": 77,
   "id": "f0b39e92",
   "metadata": {},
   "outputs": [
    {
     "data": {
      "text/plain": [
       "[5, 9, 1]"
      ]
     },
     "execution_count": 77,
     "metadata": {},
     "output_type": "execute_result"
    }
   ],
   "source": [
    "li"
   ]
  },
  {
   "cell_type": "markdown",
   "id": "ecdac42f",
   "metadata": {},
   "source": [
    "### Space separated input in a list"
   ]
  },
  {
   "cell_type": "code",
   "execution_count": 1,
   "id": "50ef7b66",
   "metadata": {},
   "outputs": [
    {
     "name": "stdout",
     "output_type": "stream",
     "text": [
      "1 2 3 4 5\n"
     ]
    }
   ],
   "source": [
    "n = input()"
   ]
  },
  {
   "cell_type": "code",
   "execution_count": 2,
   "id": "adddef49",
   "metadata": {},
   "outputs": [
    {
     "data": {
      "text/plain": [
       "'1 2 3 4 5'"
      ]
     },
     "execution_count": 2,
     "metadata": {},
     "output_type": "execute_result"
    }
   ],
   "source": [
    "n"
   ]
  },
  {
   "cell_type": "code",
   "execution_count": 4,
   "id": "234fe0fd",
   "metadata": {},
   "outputs": [],
   "source": [
    "li=[]"
   ]
  },
  {
   "cell_type": "code",
   "execution_count": 5,
   "id": "a68aef6e",
   "metadata": {},
   "outputs": [],
   "source": [
    "n_split = n.split(\" \")"
   ]
  },
  {
   "cell_type": "code",
   "execution_count": 6,
   "id": "0c71927b",
   "metadata": {},
   "outputs": [
    {
     "data": {
      "text/plain": [
       "['1', '2', '3', '4', '5']"
      ]
     },
     "execution_count": 6,
     "metadata": {},
     "output_type": "execute_result"
    }
   ],
   "source": [
    "n_split"
   ]
  },
  {
   "cell_type": "code",
   "execution_count": 7,
   "id": "c983d11a",
   "metadata": {},
   "outputs": [],
   "source": [
    "for element in n_split:\n",
    "    li.append(int(element))"
   ]
  },
  {
   "cell_type": "code",
   "execution_count": 8,
   "id": "11e5ad16",
   "metadata": {},
   "outputs": [
    {
     "data": {
      "text/plain": [
       "[1, 2, 3, 4, 5]"
      ]
     },
     "execution_count": 8,
     "metadata": {},
     "output_type": "execute_result"
    }
   ],
   "source": [
    "li"
   ]
  },
  {
   "cell_type": "code",
   "execution_count": 9,
   "id": "ceef5f9e",
   "metadata": {},
   "outputs": [
    {
     "name": "stdout",
     "output_type": "stream",
     "text": [
      "1 2 3 4 5 6\n"
     ]
    }
   ],
   "source": [
    "list = [int(x) for x in input().split()]"
   ]
  },
  {
   "cell_type": "code",
   "execution_count": 10,
   "id": "8256249c",
   "metadata": {},
   "outputs": [
    {
     "data": {
      "text/plain": [
       "[1, 2, 3, 4, 5, 6]"
      ]
     },
     "execution_count": 10,
     "metadata": {},
     "output_type": "execute_result"
    }
   ],
   "source": [
    "list"
   ]
  },
  {
   "cell_type": "markdown",
   "id": "7ed383ca",
   "metadata": {},
   "source": [
    "### Linear search"
   ]
  },
  {
   "cell_type": "code",
   "execution_count": 1,
   "id": "b89b266e",
   "metadata": {},
   "outputs": [
    {
     "name": "stdout",
     "output_type": "stream",
     "text": [
      "6\n",
      "1 2 4 5\n",
      "4\n",
      "2\n"
     ]
    }
   ],
   "source": [
    "n = int(input())\n",
    "li = [int(x) for x in input().split()]\n",
    "ele = int(input())\n",
    "isFound=False\n",
    "for i in range(len(li)):\n",
    "    if li[i]==ele:\n",
    "        isFound=True\n",
    "        break\n",
    "if isFound is False:\n",
    "    print('-1')\n",
    "else:\n",
    "    print(i)"
   ]
  },
  {
   "cell_type": "code",
   "execution_count": 16,
   "id": "11244d12",
   "metadata": {},
   "outputs": [
    {
     "name": "stdout",
     "output_type": "stream",
     "text": [
      "6\n"
     ]
    }
   ],
   "source": [
    "def index(li,ele):\n",
    "    for i in range(len(li)):\n",
    "        if li[i]==ele:\n",
    "            return i\n",
    "    return -1\n",
    "li=[1,2,3,5,6,8,9,45,62,31]\n",
    "indexing = index(li,9)\n",
    "print(indexing)"
   ]
  },
  {
   "cell_type": "code",
   "execution_count": 17,
   "id": "f4b5f1fb",
   "metadata": {},
   "outputs": [
    {
     "name": "stdout",
     "output_type": "stream",
     "text": [
      "140721045238664\n",
      "140721045238696\n"
     ]
    }
   ],
   "source": [
    "x=4\n",
    "print(id(x))\n",
    "x=5\n",
    "print(id(x))"
   ]
  },
  {
   "cell_type": "markdown",
   "id": "f84cad02",
   "metadata": {},
   "source": [
    "### Mutable and immutable concept"
   ]
  },
  {
   "cell_type": "code",
   "execution_count": 18,
   "id": "721cadc0",
   "metadata": {},
   "outputs": [
    {
     "name": "stdout",
     "output_type": "stream",
     "text": [
      "[1, 2, 8, 4]\n",
      "[1, 2, 8, 4]\n"
     ]
    }
   ],
   "source": [
    "li1=[1,2,3,4]\n",
    "li2=li1\n",
    "li2[2]=8\n",
    "print(li1)\n",
    "print(li2)"
   ]
  },
  {
   "cell_type": "markdown",
   "id": "75d21975",
   "metadata": {},
   "source": [
    "### Reverse a list"
   ]
  },
  {
   "cell_type": "code",
   "execution_count": 7,
   "id": "49204dee",
   "metadata": {},
   "outputs": [
    {
     "name": "stdout",
     "output_type": "stream",
     "text": [
      "[7, 6, 5, 4, 3, 2, 1]\n"
     ]
    }
   ],
   "source": [
    "def rev(li):\n",
    "    n = len(li)\n",
    "    for i in range(n//2):\n",
    "        li[i],li[n-i-1]=li[n-i-1],li[i]\n",
    "    return li\n",
    "    \n",
    "li = [1,2,3,4,5,6,7]\n",
    "print(rev(li))"
   ]
  },
  {
   "cell_type": "code",
   "execution_count": 8,
   "id": "e9717212",
   "metadata": {},
   "outputs": [
    {
     "data": {
      "text/plain": [
       "[9, 8, 7, 6, 5, 4, 3, 2, 1]"
      ]
     },
     "execution_count": 8,
     "metadata": {},
     "output_type": "execute_result"
    }
   ],
   "source": [
    "li1 = [1,2,3,4,5,6,7,8,9]\n",
    "li1[::-1]"
   ]
  }
 ],
 "metadata": {
  "kernelspec": {
   "display_name": "Python 3 (ipykernel)",
   "language": "python",
   "name": "python3"
  },
  "language_info": {
   "codemirror_mode": {
    "name": "ipython",
    "version": 3
   },
   "file_extension": ".py",
   "mimetype": "text/x-python",
   "name": "python",
   "nbconvert_exporter": "python",
   "pygments_lexer": "ipython3",
   "version": "3.11.2"
  }
 },
 "nbformat": 4,
 "nbformat_minor": 5
}
