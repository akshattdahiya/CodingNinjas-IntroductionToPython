{
 "cells": [
  {
   "cell_type": "markdown",
   "id": "ec243cf4",
   "metadata": {},
   "source": [
    "### Binary Search"
   ]
  },
  {
   "cell_type": "code",
   "execution_count": 11,
   "id": "191c4730",
   "metadata": {},
   "outputs": [],
   "source": [
    "def binary_search(array , element, debug=False):\n",
    "    lower_bound=0\n",
    "    upper_bound=len(array)-1\n",
    "    while lower_bound<=upper_bound:\n",
    "        middle = (lower_bound+upper_bound)//2\n",
    "        if debug:\n",
    "            print(\"Lower Bound is \", lower_bound)\n",
    "            print(\"Upper Bound is \", upper_bound)\n",
    "            print(\"Middle is \", middle)\n",
    "        if element==array[middle]:\n",
    "            return \"The index at which the element is present is \" , middle\n",
    "        elif element<array[middle]:\n",
    "            upper_bound=middle-1\n",
    "        elif element>array[middle]:\n",
    "            lower_bound=middle+1\n",
    "    return \"Your element is not in the array. :(\""
   ]
  },
  {
   "cell_type": "code",
   "execution_count": 13,
   "id": "5928bd9e",
   "metadata": {
    "scrolled": false
   },
   "outputs": [
    {
     "name": "stdout",
     "output_type": "stream",
     "text": [
      "Lower Bound is  0\n",
      "Upper Bound is  7\n",
      "Middle is  3\n",
      "Lower Bound is  4\n",
      "Upper Bound is  7\n",
      "Middle is  5\n"
     ]
    },
    {
     "data": {
      "text/plain": [
       "('The index at which the element is present is ', 5)"
      ]
     },
     "execution_count": 13,
     "metadata": {},
     "output_type": "execute_result"
    }
   ],
   "source": [
    "li = [10,12,41,56,77,87,90,99]\n",
    "ele = 87\n",
    "binary_search(li , ele , debug=True)"
   ]
  },
  {
   "cell_type": "markdown",
   "id": "5a47110e",
   "metadata": {},
   "source": [
    "### Selection Sort"
   ]
  },
  {
   "cell_type": "code",
   "execution_count": 16,
   "id": "2fcd070c",
   "metadata": {},
   "outputs": [],
   "source": [
    "def selection_sort(array):\n",
    "    for i in range(len(array)):\n",
    "        min_index=i\n",
    "        for j in range(i+1,len(array)):\n",
    "            if array[j]<array[min_index]:\n",
    "                min_index=j\n",
    "        array[i],array[min_index]=array[min_index],array[i]\n",
    "        \n",
    "    return array"
   ]
  },
  {
   "cell_type": "code",
   "execution_count": 17,
   "id": "83bcdb57",
   "metadata": {},
   "outputs": [
    {
     "data": {
      "text/plain": [
       "[3, 4, 5, 9, 13]"
      ]
     },
     "execution_count": 17,
     "metadata": {},
     "output_type": "execute_result"
    }
   ],
   "source": [
    "selection_sort([13,4,9,5,3])"
   ]
  },
  {
   "cell_type": "markdown",
   "id": "2a4d4e1f",
   "metadata": {},
   "source": [
    "### Bubble Sort"
   ]
  },
  {
   "cell_type": "code",
   "execution_count": 26,
   "id": "03103891",
   "metadata": {},
   "outputs": [],
   "source": [
    "def bubble_sort(array):\n",
    "    for i in range(len(array)):\n",
    "        print(\"This is pass\", i)\n",
    "        for j in range(len(array)-1):\n",
    "            if array[j]>array[j+1]:\n",
    "                print(array[j], array[j+1])\n",
    "                array[j],array[j+1]=array[j+1],array[j]\n",
    "    return array"
   ]
  },
  {
   "cell_type": "code",
   "execution_count": 27,
   "id": "ddf68388",
   "metadata": {},
   "outputs": [
    {
     "name": "stdout",
     "output_type": "stream",
     "text": [
      "This is pass 0\n",
      "8 5\n",
      "8 3\n",
      "8 1\n",
      "This is pass 1\n",
      "5 3\n",
      "5 1\n",
      "This is pass 2\n",
      "3 1\n",
      "This is pass 3\n"
     ]
    },
    {
     "data": {
      "text/plain": [
       "[1, 3, 5, 8]"
      ]
     },
     "execution_count": 27,
     "metadata": {},
     "output_type": "execute_result"
    }
   ],
   "source": [
    "bubble_sort([8,5,3,1])"
   ]
  },
  {
   "cell_type": "code",
   "execution_count": 29,
   "id": "b4610ca2",
   "metadata": {},
   "outputs": [],
   "source": [
    "# optimised bubble sort\n",
    "def opt_bubble_sort(array):\n",
    "    for i in range(len(array)-1):\n",
    "        for j in range(len(array)-1-i):\n",
    "            if array[j]>array[j+1]:\n",
    "                array[j],array[j+1]=array[j+1],array[j]\n",
    "    return array"
   ]
  },
  {
   "cell_type": "code",
   "execution_count": 30,
   "id": "3413db48",
   "metadata": {},
   "outputs": [
    {
     "data": {
      "text/plain": [
       "[1, 3, 5, 7, 7, 9]"
      ]
     },
     "execution_count": 30,
     "metadata": {},
     "output_type": "execute_result"
    }
   ],
   "source": [
    "opt_bubble_sort([1,5,7,9,3,7])"
   ]
  },
  {
   "cell_type": "markdown",
   "id": "4cceb845",
   "metadata": {},
   "source": [
    "### Insertion Sort"
   ]
  },
  {
   "cell_type": "code",
   "execution_count": 13,
   "id": "7fbe1f9d",
   "metadata": {},
   "outputs": [],
   "source": [
    "def insertion_sort(arr):\n",
    "    length=len(arr)\n",
    "    for i in range(1,length):\n",
    "        j = i-1\n",
    "        temp = arr[i]\n",
    "        while (j>=0 and arr[j]>temp):\n",
    "            arr[j+1]=arr[j]\n",
    "            j = j-1\n",
    "        arr[j+1] = temp\n",
    "    return arr"
   ]
  },
  {
   "cell_type": "code",
   "execution_count": 14,
   "id": "e897000c",
   "metadata": {},
   "outputs": [
    {
     "name": "stdout",
     "output_type": "stream",
     "text": [
      "[1, 5, 6, 7, 8, 9]\n"
     ]
    }
   ],
   "source": [
    "arr = [9,8,5,6,7,1]\n",
    "insertion_sort(arr)\n",
    "print(arr)"
   ]
  },
  {
   "cell_type": "markdown",
   "id": "3b267bc0",
   "metadata": {},
   "source": [
    "### Merging two sorted arrays"
   ]
  },
  {
   "cell_type": "code",
   "execution_count": 20,
   "id": "e13aae5a",
   "metadata": {},
   "outputs": [],
   "source": [
    "def merge_array(a1 , a2):\n",
    "    i , j = 0 , 0\n",
    "    len1 , len2 = len(a1) , len(a2)\n",
    "    new_arr = []\n",
    "    \n",
    "    while i<len1 and j<len2:\n",
    "        if a1[i]<a2[j]:\n",
    "            new_arr.append(a1[i])\n",
    "            i+=1\n",
    "        else:\n",
    "            new_arr.append(a2[j])\n",
    "            j+=1\n",
    "    while i<len1:\n",
    "        new_arr.append(a1[i])\n",
    "        i+=1\n",
    "    while j<len2:\n",
    "        new_arr.append(a2[j])\n",
    "        j+=1\n",
    "    \n",
    "    return new_arr"
   ]
  },
  {
   "cell_type": "code",
   "execution_count": 22,
   "id": "432432db",
   "metadata": {},
   "outputs": [
    {
     "data": {
      "text/plain": [
       "[1, 1, 2, 3, 4, 6, 7, 11, 18, 19, 20, 25, 31]"
      ]
     },
     "execution_count": 22,
     "metadata": {},
     "output_type": "execute_result"
    }
   ],
   "source": [
    "a1 = [1,3,6,11,18,19,25,31]\n",
    "a2 = [1,2,4,7,20]\n",
    "merge_array(a1,a2)"
   ]
  }
 ],
 "metadata": {
  "kernelspec": {
   "display_name": "Python 3 (ipykernel)",
   "language": "python",
   "name": "python3"
  },
  "language_info": {
   "codemirror_mode": {
    "name": "ipython",
    "version": 3
   },
   "file_extension": ".py",
   "mimetype": "text/x-python",
   "name": "python",
   "nbconvert_exporter": "python",
   "pygments_lexer": "ipython3",
   "version": "3.11.2"
  }
 },
 "nbformat": 4,
 "nbformat_minor": 5
}
