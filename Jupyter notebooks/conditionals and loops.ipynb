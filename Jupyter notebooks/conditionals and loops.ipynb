{
 "cells": [
  {
   "cell_type": "markdown",
   "id": "a26379a2",
   "metadata": {},
   "source": [
    "### Booleans"
   ]
  },
  {
   "cell_type": "code",
   "execution_count": 5,
   "id": "641e56df",
   "metadata": {},
   "outputs": [
    {
     "name": "stdout",
     "output_type": "stream",
     "text": [
      "<class 'bool'>\n",
      "<class 'bool'>\n"
     ]
    }
   ],
   "source": [
    "a = True\n",
    "b = False\n",
    "\n",
    "c = \"Ninjas\"\n",
    "\n",
    "print(type(a))\n",
    "print(type(b))"
   ]
  },
  {
   "cell_type": "markdown",
   "id": "501ec3c1",
   "metadata": {},
   "source": [
    "### Relational operators"
   ]
  },
  {
   "cell_type": "code",
   "execution_count": 9,
   "id": "3f5a5c03",
   "metadata": {},
   "outputs": [
    {
     "name": "stdout",
     "output_type": "stream",
     "text": [
      "False\n",
      "True\n",
      "False\n",
      "False\n",
      "False\n",
      "False\n"
     ]
    }
   ],
   "source": [
    "a = 10\n",
    "b = 20\n",
    "\n",
    "print(a>b)\n",
    "print(a<b)\n",
    "print(a>=b)\n",
    "print(a>=b)\n",
    "print(a==b)\n",
    "print(a>b)"
   ]
  },
  {
   "cell_type": "markdown",
   "id": "ca792e3f",
   "metadata": {},
   "source": [
    "### Logical operators"
   ]
  },
  {
   "cell_type": "code",
   "execution_count": 2,
   "id": "7ee9bced",
   "metadata": {},
   "outputs": [
    {
     "name": "stdout",
     "output_type": "stream",
     "text": [
      "False\n",
      "True\n",
      "True\n",
      "False\n"
     ]
    }
   ],
   "source": [
    "a = 10\n",
    "b = 20\n",
    "\n",
    "c1 = a>10\n",
    "c2 = b>10\n",
    "\n",
    "r1 = not(c1)\n",
    "r2 = not(c2)\n",
    "\n",
    "print(c1 and c2)  #and means both of them have to be true\n",
    "print(c1 or c2)   #or means either of them has to be true\n",
    "print(r1)\n",
    "print(r2)"
   ]
  },
  {
   "cell_type": "markdown",
   "id": "52df7f4f",
   "metadata": {},
   "source": [
    "### If Else"
   ]
  },
  {
   "cell_type": "code",
   "execution_count": 5,
   "id": "42bce897",
   "metadata": {},
   "outputs": [
    {
     "name": "stdout",
     "output_type": "stream",
     "text": [
      "I am inside if\n"
     ]
    }
   ],
   "source": [
    "a = True\n",
    "if a:\n",
    "    print(\"I am inside if\")\n",
    "else:\n",
    "    print(\"I am inside else\")"
   ]
  },
  {
   "cell_type": "code",
   "execution_count": 4,
   "id": "7d0b3e5a",
   "metadata": {},
   "outputs": [
    {
     "name": "stdout",
     "output_type": "stream",
     "text": [
      "45\n",
      "The number is odd\n"
     ]
    }
   ],
   "source": [
    "a=int(input())\n",
    "r = a%2\n",
    "if r==0:\n",
    "    print(\"The number is even\")\n",
    "else:\n",
    "    print(\"The number is odd\")"
   ]
  },
  {
   "cell_type": "code",
   "execution_count": 5,
   "id": "45c62236",
   "metadata": {},
   "outputs": [
    {
     "name": "stdout",
     "output_type": "stream",
     "text": [
      "5\n"
     ]
    }
   ],
   "source": [
    "a=int(input())\n",
    "r = a%2\n",
    "if r==0:\n",
    "    print(\"The number is even\")   #if a is even print a is even otherwise dont do anything"
   ]
  },
  {
   "cell_type": "code",
   "execution_count": 7,
   "id": "cf3a66f2",
   "metadata": {},
   "outputs": [
    {
     "name": "stdout",
     "output_type": "stream",
     "text": [
      "10\n",
      "20\n",
      "Both are not greater than 10\n"
     ]
    }
   ],
   "source": [
    "a = int(input())\n",
    "b = int(input())\n",
    "\n",
    "c1 = a > 10\n",
    "c2 = b > 10\n",
    "\n",
    "r = c1 and c2\n",
    "\n",
    "if r:\n",
    "    print(\"Both are greater than 10\")\n",
    "else:\n",
    "    print(\"Both are not greater than 10\")"
   ]
  },
  {
   "cell_type": "code",
   "execution_count": 8,
   "id": "c5319414",
   "metadata": {},
   "outputs": [
    {
     "name": "stdout",
     "output_type": "stream",
     "text": [
      "12\n",
      "25\n",
      "Both are greater than 10\n"
     ]
    }
   ],
   "source": [
    "a = int(input())\n",
    "b = int(input())\n",
    "\n",
    "if a>10 and b>10:\n",
    "    print(\"Both are greater than 10\")\n",
    "else:\n",
    "    print(\"Both are not greater than 10\")"
   ]
  },
  {
   "cell_type": "code",
   "execution_count": 9,
   "id": "8ddfe297",
   "metadata": {},
   "outputs": [
    {
     "name": "stdout",
     "output_type": "stream",
     "text": [
      "7\n",
      "It is 7\n"
     ]
    }
   ],
   "source": [
    "a = int(input())\n",
    "if a==7:\n",
    "    print(\"It is 7\")\n",
    "else: \n",
    "    print(\"It is not 7\")"
   ]
  },
  {
   "cell_type": "code",
   "execution_count": 10,
   "id": "5149b558",
   "metadata": {},
   "outputs": [
    {
     "name": "stdout",
     "output_type": "stream",
     "text": [
      "7\n",
      "It is 7\n"
     ]
    }
   ],
   "source": [
    "b = int(input())\n",
    "if b!=7:\n",
    "    print(\"It is not 7\")\n",
    "else:\n",
    "    print(\"It is 7\")"
   ]
  },
  {
   "cell_type": "markdown",
   "id": "1ae13db6",
   "metadata": {},
   "source": [
    "### ELIF"
   ]
  },
  {
   "cell_type": "code",
   "execution_count": 19,
   "id": "96ed71a2",
   "metadata": {},
   "outputs": [
    {
     "name": "stdout",
     "output_type": "stream",
     "text": [
      "10\n",
      "10\n",
      "5\n",
      "10\n"
     ]
    }
   ],
   "source": [
    "#finding the largest number\n",
    "a = int(input())\n",
    "b = int(input())\n",
    "c = int(input())\n",
    "\n",
    "if a>=b and a>=c:\n",
    "    print(a)\n",
    "elif b>=a and b>=c:\n",
    "    print(b)\n",
    "else:\n",
    "    print(c)"
   ]
  },
  {
   "cell_type": "code",
   "execution_count": 33,
   "id": "c4707416",
   "metadata": {},
   "outputs": [
    {
     "name": "stdout",
     "output_type": "stream",
     "text": [
      "10\n",
      "green\n"
     ]
    }
   ],
   "source": [
    "#n>10 print red\n",
    "#10>=n>=5 print green\n",
    "#5>n>0 print yellow\n",
    "#n<0 dont do anything\n",
    "\n",
    "n = int(input())\n",
    "\n",
    "if n>10:\n",
    "    print(\"red\")\n",
    "elif n>=5:    #and 10>=n is not needed\n",
    "    print(\"green\")\n",
    "elif 5>n:     #and n>0 is not needed\n",
    "    print(\"yellow\")"
   ]
  },
  {
   "cell_type": "markdown",
   "id": "a892e670",
   "metadata": {},
   "source": [
    "### Nested If Else"
   ]
  },
  {
   "cell_type": "code",
   "execution_count": 36,
   "id": "030f516c",
   "metadata": {},
   "outputs": [
    {
     "name": "stdout",
     "output_type": "stream",
     "text": [
      "0\n",
      "The number is even\n",
      "The number is 0\n"
     ]
    }
   ],
   "source": [
    "a = int(input())\n",
    "r = a%2\n",
    "if r==0:\n",
    "    print(\"The number is even\")\n",
    "    if a==0:\n",
    "        print(\"The number is 0\")\n",
    "else:\n",
    "    print(\"The number is odd\")"
   ]
  },
  {
   "cell_type": "code",
   "execution_count": 39,
   "id": "ac8d729e",
   "metadata": {},
   "outputs": [
    {
     "name": "stdout",
     "output_type": "stream",
     "text": [
      "3\n",
      "4\n",
      "n is odd\n"
     ]
    }
   ],
   "source": [
    "n = int(input())\n",
    "m = int(input())\n",
    "\n",
    "if n % 2 == 0:\n",
    "    print(\"n is even\")\n",
    "    if m % 2 == 0:\n",
    "        print(\"m is even\")\n",
    "    else:\n",
    "        print(\"m is odd\")\n",
    "else:\n",
    "    print(\"n is odd\")"
   ]
  }
 ],
 "metadata": {
  "kernelspec": {
   "display_name": "Python 3 (ipykernel)",
   "language": "python",
   "name": "python3"
  },
  "language_info": {
   "codemirror_mode": {
    "name": "ipython",
    "version": 3
   },
   "file_extension": ".py",
   "mimetype": "text/x-python",
   "name": "python",
   "nbconvert_exporter": "python",
   "pygments_lexer": "ipython3",
   "version": "3.11.2"
  }
 },
 "nbformat": 4,
 "nbformat_minor": 5
}
